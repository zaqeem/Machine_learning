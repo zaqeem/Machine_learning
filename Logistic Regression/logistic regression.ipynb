{
 "cells": [
  {
   "cell_type": "code",
   "execution_count": 1,
   "id": "db0c16a1",
   "metadata": {},
   "outputs": [],
   "source": [
    "import numpy as np\n",
    "import pandas as pd\n",
    "import matplotlib.pyplot as plt\n",
    "from matplotlib.colors import ListedColormap \n",
    "from sklearn.preprocessing import StandardScaler"
   ]
  },
  {
   "cell_type": "code",
   "execution_count": 2,
   "id": "466f7775",
   "metadata": {},
   "outputs": [
    {
     "data": {
      "text/html": [
       "<div>\n",
       "<style scoped>\n",
       "    .dataframe tbody tr th:only-of-type {\n",
       "        vertical-align: middle;\n",
       "    }\n",
       "\n",
       "    .dataframe tbody tr th {\n",
       "        vertical-align: top;\n",
       "    }\n",
       "\n",
       "    .dataframe thead th {\n",
       "        text-align: right;\n",
       "    }\n",
       "</style>\n",
       "<table border=\"1\" class=\"dataframe\">\n",
       "  <thead>\n",
       "    <tr style=\"text-align: right;\">\n",
       "      <th></th>\n",
       "      <th>x1</th>\n",
       "      <th>x2</th>\n",
       "      <th>y</th>\n",
       "    </tr>\n",
       "  </thead>\n",
       "  <tbody>\n",
       "    <tr>\n",
       "      <th>0</th>\n",
       "      <td>0.127071</td>\n",
       "      <td>1.013042</td>\n",
       "      <td>1</td>\n",
       "    </tr>\n",
       "    <tr>\n",
       "      <th>1</th>\n",
       "      <td>2.312935</td>\n",
       "      <td>3.770534</td>\n",
       "      <td>1</td>\n",
       "    </tr>\n",
       "    <tr>\n",
       "      <th>2</th>\n",
       "      <td>3.340428</td>\n",
       "      <td>3.420996</td>\n",
       "      <td>1</td>\n",
       "    </tr>\n",
       "    <tr>\n",
       "      <th>3</th>\n",
       "      <td>3.294548</td>\n",
       "      <td>0.595620</td>\n",
       "      <td>1</td>\n",
       "    </tr>\n",
       "    <tr>\n",
       "      <th>4</th>\n",
       "      <td>1.944105</td>\n",
       "      <td>1.477241</td>\n",
       "      <td>1</td>\n",
       "    </tr>\n",
       "    <tr>\n",
       "      <th>...</th>\n",
       "      <td>...</td>\n",
       "      <td>...</td>\n",
       "      <td>...</td>\n",
       "    </tr>\n",
       "    <tr>\n",
       "      <th>195</th>\n",
       "      <td>-3.325239</td>\n",
       "      <td>0.080488</td>\n",
       "      <td>0</td>\n",
       "    </tr>\n",
       "    <tr>\n",
       "      <th>196</th>\n",
       "      <td>-1.741314</td>\n",
       "      <td>2.970952</td>\n",
       "      <td>0</td>\n",
       "    </tr>\n",
       "    <tr>\n",
       "      <th>197</th>\n",
       "      <td>-1.581615</td>\n",
       "      <td>2.196672</td>\n",
       "      <td>0</td>\n",
       "    </tr>\n",
       "    <tr>\n",
       "      <th>198</th>\n",
       "      <td>1.871664</td>\n",
       "      <td>2.690409</td>\n",
       "      <td>1</td>\n",
       "    </tr>\n",
       "    <tr>\n",
       "      <th>199</th>\n",
       "      <td>-0.062896</td>\n",
       "      <td>4.525581</td>\n",
       "      <td>0</td>\n",
       "    </tr>\n",
       "  </tbody>\n",
       "</table>\n",
       "<p>200 rows × 3 columns</p>\n",
       "</div>"
      ],
      "text/plain": [
       "           x1        x2  y\n",
       "0    0.127071  1.013042  1\n",
       "1    2.312935  3.770534  1\n",
       "2    3.340428  3.420996  1\n",
       "3    3.294548  0.595620  1\n",
       "4    1.944105  1.477241  1\n",
       "..        ...       ... ..\n",
       "195 -3.325239  0.080488  0\n",
       "196 -1.741314  2.970952  0\n",
       "197 -1.581615  2.196672  0\n",
       "198  1.871664  2.690409  1\n",
       "199 -0.062896  4.525581  0\n",
       "\n",
       "[200 rows x 3 columns]"
      ]
     },
     "execution_count": 2,
     "metadata": {},
     "output_type": "execute_result"
    }
   ],
   "source": [
    "data=pd.read_csv('tumor_classification_dataset.csv')\n",
    "data"
   ]
  },
  {
   "cell_type": "code",
   "execution_count": 3,
   "id": "5cab3dc7",
   "metadata": {},
   "outputs": [
    {
     "data": {
      "text/html": [
       "<div>\n",
       "<style scoped>\n",
       "    .dataframe tbody tr th:only-of-type {\n",
       "        vertical-align: middle;\n",
       "    }\n",
       "\n",
       "    .dataframe tbody tr th {\n",
       "        vertical-align: top;\n",
       "    }\n",
       "\n",
       "    .dataframe thead th {\n",
       "        text-align: right;\n",
       "    }\n",
       "</style>\n",
       "<table border=\"1\" class=\"dataframe\">\n",
       "  <thead>\n",
       "    <tr style=\"text-align: right;\">\n",
       "      <th></th>\n",
       "      <th>x1</th>\n",
       "      <th>x2</th>\n",
       "    </tr>\n",
       "  </thead>\n",
       "  <tbody>\n",
       "    <tr>\n",
       "      <th>0</th>\n",
       "      <td>0.127071</td>\n",
       "      <td>1.013042</td>\n",
       "    </tr>\n",
       "    <tr>\n",
       "      <th>1</th>\n",
       "      <td>2.312935</td>\n",
       "      <td>3.770534</td>\n",
       "    </tr>\n",
       "    <tr>\n",
       "      <th>2</th>\n",
       "      <td>3.340428</td>\n",
       "      <td>3.420996</td>\n",
       "    </tr>\n",
       "    <tr>\n",
       "      <th>3</th>\n",
       "      <td>3.294548</td>\n",
       "      <td>0.595620</td>\n",
       "    </tr>\n",
       "    <tr>\n",
       "      <th>4</th>\n",
       "      <td>1.944105</td>\n",
       "      <td>1.477241</td>\n",
       "    </tr>\n",
       "    <tr>\n",
       "      <th>...</th>\n",
       "      <td>...</td>\n",
       "      <td>...</td>\n",
       "    </tr>\n",
       "    <tr>\n",
       "      <th>195</th>\n",
       "      <td>-3.325239</td>\n",
       "      <td>0.080488</td>\n",
       "    </tr>\n",
       "    <tr>\n",
       "      <th>196</th>\n",
       "      <td>-1.741314</td>\n",
       "      <td>2.970952</td>\n",
       "    </tr>\n",
       "    <tr>\n",
       "      <th>197</th>\n",
       "      <td>-1.581615</td>\n",
       "      <td>2.196672</td>\n",
       "    </tr>\n",
       "    <tr>\n",
       "      <th>198</th>\n",
       "      <td>1.871664</td>\n",
       "      <td>2.690409</td>\n",
       "    </tr>\n",
       "    <tr>\n",
       "      <th>199</th>\n",
       "      <td>-0.062896</td>\n",
       "      <td>4.525581</td>\n",
       "    </tr>\n",
       "  </tbody>\n",
       "</table>\n",
       "<p>200 rows × 2 columns</p>\n",
       "</div>"
      ],
      "text/plain": [
       "           x1        x2\n",
       "0    0.127071  1.013042\n",
       "1    2.312935  3.770534\n",
       "2    3.340428  3.420996\n",
       "3    3.294548  0.595620\n",
       "4    1.944105  1.477241\n",
       "..        ...       ...\n",
       "195 -3.325239  0.080488\n",
       "196 -1.741314  2.970952\n",
       "197 -1.581615  2.196672\n",
       "198  1.871664  2.690409\n",
       "199 -0.062896  4.525581\n",
       "\n",
       "[200 rows x 2 columns]"
      ]
     },
     "execution_count": 3,
     "metadata": {},
     "output_type": "execute_result"
    }
   ],
   "source": [
    "x=data.drop(columns=['y'])\n",
    "x"
   ]
  },
  {
   "cell_type": "code",
   "execution_count": 4,
   "id": "45081696",
   "metadata": {},
   "outputs": [
    {
     "data": {
      "text/plain": [
       "(200, 2)"
      ]
     },
     "execution_count": 4,
     "metadata": {},
     "output_type": "execute_result"
    }
   ],
   "source": [
    "x.shape\n"
   ]
  },
  {
   "cell_type": "code",
   "execution_count": 5,
   "id": "c2884691",
   "metadata": {},
   "outputs": [
    {
     "data": {
      "text/plain": [
       "array([1, 1, 1, 1, 1, 0, 1, 0, 0, 0, 0, 0, 1, 0, 1, 0, 1, 0, 1, 1, 1, 0,\n",
       "       1, 0, 0, 1, 1, 1, 0, 1, 0, 1, 0, 1, 1, 0, 0, 0, 0, 0, 0, 0, 0, 1,\n",
       "       0, 0, 0, 0, 1, 0, 1, 0, 0, 1, 1, 0, 0, 0, 1, 1, 0, 0, 1, 0, 0, 0,\n",
       "       0, 0, 1, 0, 0, 0, 1, 1, 1, 0, 1, 1, 1, 0, 1, 0, 1, 1, 0, 0, 1, 0,\n",
       "       0, 0, 0, 1, 1, 0, 1, 0, 1, 1, 1, 0, 1, 0, 0, 0, 0, 0, 0, 1, 1, 0,\n",
       "       1, 1, 1, 0, 1, 1, 1, 0, 1, 1, 1, 1, 0, 0, 1, 0, 1, 0, 1, 0, 0, 1,\n",
       "       1, 1, 1, 1, 0, 0, 0, 0, 0, 0, 1, 0, 1, 0, 0, 1, 1, 1, 1, 1, 0, 1,\n",
       "       1, 1, 1, 0, 1, 0, 0, 0, 0, 1, 1, 1, 0, 1, 1, 1, 0, 1, 1, 0, 0, 1,\n",
       "       0, 1, 1, 1, 1, 1, 0, 1, 1, 1, 0, 0, 0, 1, 1, 1, 0, 0, 1, 0, 0, 0,\n",
       "       1, 0], dtype=int64)"
      ]
     },
     "execution_count": 5,
     "metadata": {},
     "output_type": "execute_result"
    }
   ],
   "source": [
    "y=data['y'].values\n",
    "y"
   ]
  },
  {
   "cell_type": "code",
   "execution_count": 6,
   "id": "72aa1e52",
   "metadata": {},
   "outputs": [
    {
     "data": {
      "text/plain": [
       "(200,)"
      ]
     },
     "execution_count": 6,
     "metadata": {},
     "output_type": "execute_result"
    }
   ],
   "source": [
    "y.shape"
   ]
  },
  {
   "cell_type": "code",
   "execution_count": 7,
   "id": "8a6240e0",
   "metadata": {},
   "outputs": [],
   "source": [
    "x=x.values"
   ]
  },
  {
   "cell_type": "code",
   "execution_count": 8,
   "id": "61182c17",
   "metadata": {},
   "outputs": [
    {
     "data": {
      "text/plain": [
       "array([[ 1.27071018e-01,  1.01304200e+00],\n",
       "       [ 2.31293463e+00,  3.77053357e+00],\n",
       "       [ 3.34042818e+00,  3.42099601e+00],\n",
       "       [ 3.29454774e+00,  5.95619812e-01],\n",
       "       [ 1.94410516e+00,  1.47724090e+00],\n",
       "       [-1.11959689e+00,  1.50891314e+00],\n",
       "       [ 1.15108470e+00,  1.81007677e+00],\n",
       "       [-1.00745441e+00,  5.47157435e-01],\n",
       "       [-2.25396925e+00,  1.06769236e+00],\n",
       "       [-1.24392415e+00,  2.19979806e+00],\n",
       "       [-2.92089280e+00,  3.91894990e+00],\n",
       "       [-5.11937308e-01,  4.50578584e+00],\n",
       "       [ 3.25751204e+00,  2.81515089e+00],\n",
       "       [-4.12190908e+00,  1.62220145e+00],\n",
       "       [ 2.87768113e+00,  1.51095984e+00],\n",
       "       [-5.32144582e-01,  1.78719280e+00],\n",
       "       [ 1.48404809e+00,  1.04843842e+00],\n",
       "       [-1.54235518e+00,  4.49536942e+00],\n",
       "       [ 2.04235818e+00,  2.10204918e+00],\n",
       "       [ 2.63367133e+00,  1.59219328e+00],\n",
       "       [ 2.85756778e+00,  2.73826470e+00],\n",
       "       [-3.41167954e+00,  1.93790864e-01],\n",
       "       [ 1.87481918e+00,  1.48815664e+00],\n",
       "       [-9.04709980e-01,  1.57526555e+00],\n",
       "       [-2.64994223e+00,  9.33040831e-01],\n",
       "       [ 3.47546506e-01,  8.08410512e-01],\n",
       "       [ 3.10252081e+00,  3.34684404e+00],\n",
       "       [ 3.95744630e+00,  3.01418031e+00],\n",
       "       [-2.70056309e+00,  8.06661542e-01],\n",
       "       [ 1.86204356e+00,  1.66498993e+00],\n",
       "       [-6.98372089e-01,  1.22791173e+00],\n",
       "       [ 2.96734507e+00,  2.82610109e+00],\n",
       "       [-1.69103890e+00,  1.46491472e+00],\n",
       "       [ 4.66332221e+00,  3.15367981e+00],\n",
       "       [ 3.34878990e+00,  3.70680122e+00],\n",
       "       [-1.10191136e+00,  3.46219750e+00],\n",
       "       [-2.09936351e+00,  2.47691125e+00],\n",
       "       [-1.47995197e+00,  3.03891075e+00],\n",
       "       [-3.54154743e+00,  2.02491255e+00],\n",
       "       [-6.42655523e-01,  2.07566374e+00],\n",
       "       [-2.54796112e+00,  2.70994209e+00],\n",
       "       [-5.81268563e-01,  9.37400958e-01],\n",
       "       [-1.72131493e+00,  5.35798732e-01],\n",
       "       [ 2.25197222e+00,  1.92017185e+00],\n",
       "       [-1.44891081e+00,  1.07879940e+00],\n",
       "       [-2.70707082e+00,  1.49983212e+00],\n",
       "       [-1.13866279e+00,  2.02062147e-01],\n",
       "       [-4.58217856e-01,  1.01195939e+00],\n",
       "       [ 2.78797488e+00,  2.51412733e+00],\n",
       "       [-2.15134201e+00,  1.76927531e+00],\n",
       "       [ 2.10688432e+00,  1.54432827e+00],\n",
       "       [-2.00544154e+00,  2.52897328e+00],\n",
       "       [-3.41201542e+00,  2.64298205e-01],\n",
       "       [ 1.69472072e+00,  1.42543324e+00],\n",
       "       [ 1.44177614e+00,  1.10611039e+00],\n",
       "       [-1.38380103e+00,  3.47232413e+00],\n",
       "       [-3.40818907e+00,  4.88605909e-01],\n",
       "       [-2.76691875e+00,  9.00135128e-01],\n",
       "       [ 1.80125261e+00,  2.68489836e+00],\n",
       "       [ 3.97144919e+00,  2.55596825e+00],\n",
       "       [-1.20876699e+00,  2.12654681e+00],\n",
       "       [-2.54340720e+00,  3.58513456e+00],\n",
       "       [ 4.47055570e+00,  2.80157587e+00],\n",
       "       [-2.40349166e+00,  1.56949880e+00],\n",
       "       [-3.49380858e+00,  1.37984677e+00],\n",
       "       [-2.72457845e+00,  1.61903802e+00],\n",
       "       [-8.21449037e-01,  1.79797707e-01],\n",
       "       [-1.93877103e+00,  1.59519330e+00],\n",
       "       [ 1.82632031e+00,  1.74117663e+00],\n",
       "       [-2.52852845e+00,  1.85153651e+00],\n",
       "       [-2.46545609e+00,  2.27241291e+00],\n",
       "       [-1.35814150e+00,  3.80078624e+00],\n",
       "       [ 1.65511414e+00,  2.52522257e+00],\n",
       "       [ 2.43464287e+00,  1.88079636e+00],\n",
       "       [ 6.27823932e-01,  1.56938167e+00],\n",
       "       [-1.60404357e+00,  2.28617369e+00],\n",
       "       [ 8.75217780e-01,  1.40979613e+00],\n",
       "       [ 3.17795625e+00,  3.07341223e+00],\n",
       "       [ 2.22935956e+00,  2.03604499e+00],\n",
       "       [-1.72886112e+00, -2.21998218e-01],\n",
       "       [ 1.07785476e+00,  8.62057038e-01],\n",
       "       [-2.19667757e+00, -1.31681095e-01],\n",
       "       [ 3.07063090e+00,  2.62579107e+00],\n",
       "       [ 3.64268527e+00,  3.05746083e+00],\n",
       "       [-3.14164582e-01,  5.73863501e-01],\n",
       "       [-7.47919484e-01,  1.70104307e+00],\n",
       "       [ 3.72588578e+00,  1.55612935e+00],\n",
       "       [-2.96954030e+00,  9.11134190e-01],\n",
       "       [-1.64061899e+00,  2.16106038e+00],\n",
       "       [-1.72784069e+00,  3.02854683e+00],\n",
       "       [-2.27509973e+00,  2.11346490e+00],\n",
       "       [ 3.06851179e+00,  5.00031846e-01],\n",
       "       [ 2.30344068e-01,  1.40081602e+00],\n",
       "       [-2.08582248e+00,  1.61470729e+00],\n",
       "       [ 1.68115929e+00,  1.32321218e+00],\n",
       "       [-1.62154585e+00,  3.99462288e+00],\n",
       "       [ 2.85205111e+00,  9.08818938e-01],\n",
       "       [ 1.27369333e+00,  2.30224218e+00],\n",
       "       [ 3.57621565e+00,  2.83260099e+00],\n",
       "       [-3.63559457e+00,  2.56006448e+00],\n",
       "       [ 1.02673783e+00,  3.01438813e+00],\n",
       "       [-3.35888098e+00,  3.83454480e+00],\n",
       "       [-1.68341504e+00,  3.21663265e+00],\n",
       "       [-2.19799362e+00,  9.48184434e-01],\n",
       "       [-2.07817905e+00, -7.38596363e-02],\n",
       "       [-1.76699391e+00, -2.54142322e-03],\n",
       "       [-1.35490992e+00,  2.55059358e+00],\n",
       "       [ 3.29801693e+00,  2.68519690e+00],\n",
       "       [ 2.91910213e+00,  1.71341025e+00],\n",
       "       [ 8.38714487e-01,  9.10479095e-01],\n",
       "       [ 3.14611901e+00,  2.65019133e+00],\n",
       "       [ 1.98184616e+00,  1.42321507e+00],\n",
       "       [ 2.11707051e+00,  2.91633584e+00],\n",
       "       [-1.96650639e+00,  2.82145399e+00],\n",
       "       [ 1.10497061e+00,  1.70366436e+00],\n",
       "       [ 2.55214461e+00,  3.08837827e+00],\n",
       "       [ 2.46896343e+00,  2.60157099e+00],\n",
       "       [-3.27093881e+00,  1.66814014e+00],\n",
       "       [-3.92452678e-01,  1.29686204e+00],\n",
       "       [-1.95524140e-01,  5.87477124e-01],\n",
       "       [ 1.00715787e+00,  1.62259975e+00],\n",
       "       [ 9.38483049e-02,  1.29007337e+00],\n",
       "       [-2.59643538e+00,  3.11527751e+00],\n",
       "       [-1.14989682e+00,  4.61729861e+00],\n",
       "       [ 2.76584782e+00,  1.95281272e+00],\n",
       "       [-7.43669514e-01,  1.53589965e+00],\n",
       "       [-1.77056029e+00,  7.29437012e-01],\n",
       "       [-1.44758139e+00,  1.71376284e+00],\n",
       "       [ 2.09515770e+00,  2.64017517e+00],\n",
       "       [-1.58215572e+00,  1.16041392e+00],\n",
       "       [-3.09153366e+00,  1.59971620e+00],\n",
       "       [ 3.05886828e+00,  2.37308530e+00],\n",
       "       [ 2.96508651e+00,  2.25979692e+00],\n",
       "       [ 1.50513533e+00,  1.20050629e+00],\n",
       "       [ 2.10808220e+00,  2.34527769e+00],\n",
       "       [ 2.51045023e+00,  1.79961159e+00],\n",
       "       [-2.95152462e+00,  6.25314397e-01],\n",
       "       [-3.49206972e+00,  1.36324656e+00],\n",
       "       [-2.33195632e+00,  3.68281146e+00],\n",
       "       [-2.60645651e+00,  2.99630075e+00],\n",
       "       [-1.01661337e+00,  2.11755370e+00],\n",
       "       [-9.89056225e-01,  3.53762706e+00],\n",
       "       [ 1.39099533e+00,  2.11157579e+00],\n",
       "       [-1.06789396e+00,  2.53020724e+00],\n",
       "       [ 1.04728122e+00,  1.84428765e+00],\n",
       "       [-1.25130391e+00,  1.73608209e+00],\n",
       "       [-1.50660604e+00,  1.10678033e+00],\n",
       "       [ 2.29225586e+00,  2.44570243e+00],\n",
       "       [ 2.41652304e+00,  2.54016420e+00],\n",
       "       [ 3.16084506e+00,  2.13805493e+00],\n",
       "       [ 1.17155907e+00,  1.73048287e+00],\n",
       "       [ 1.56194739e+00,  2.01902056e+00],\n",
       "       [-2.56797304e+00,  2.51290196e-01],\n",
       "       [ 2.90943517e+00,  1.07475541e+00],\n",
       "       [ 2.88944759e+00,  1.97729293e+00],\n",
       "       [ 8.87869106e-02,  1.94134276e+00],\n",
       "       [ 8.43468244e-01,  1.37372696e+00],\n",
       "       [-2.27723853e+00,  2.67754452e+00],\n",
       "       [ 1.17677464e+00,  1.36618904e+00],\n",
       "       [-1.88028773e+00,  1.19649562e+00],\n",
       "       [-3.44168668e+00,  2.84346099e+00],\n",
       "       [-7.61096986e-01,  1.69843315e+00],\n",
       "       [-1.71809799e+00,  2.28471790e+00],\n",
       "       [ 1.97059618e+00,  1.57621593e+00],\n",
       "       [ 1.31440771e+00,  2.12561328e+00],\n",
       "       [ 3.74022947e+00,  1.52376227e+00],\n",
       "       [-2.26435183e+00,  1.76465751e+00],\n",
       "       [ 1.65696708e+00,  2.15419481e+00],\n",
       "       [ 2.95795585e+00,  2.62812515e+00],\n",
       "       [ 2.37489728e+00,  2.95326370e+00],\n",
       "       [-1.30809618e+00,  2.95043884e+00],\n",
       "       [ 3.30799727e+00,  2.16341341e+00],\n",
       "       [ 1.81404363e+00,  6.41519643e-01],\n",
       "       [-3.06976980e-01,  3.41232056e+00],\n",
       "       [-1.59666542e+00,  9.08774859e-01],\n",
       "       [ 2.65912112e+00,  8.82539918e-01],\n",
       "       [-2.14289683e-01,  2.87839005e+00],\n",
       "       [ 1.63325054e+00,  2.06751302e+00],\n",
       "       [ 1.67392583e+00,  3.48277463e+00],\n",
       "       [ 1.32688158e+00,  2.04961997e+00],\n",
       "       [ 2.46965534e+00,  1.71961349e+00],\n",
       "       [ 1.37226849e+00,  2.33797626e+00],\n",
       "       [-3.56426542e+00,  3.55034764e+00],\n",
       "       [ 1.52805555e+00,  1.53838702e+00],\n",
       "       [ 2.95082039e+00,  1.61542493e+00],\n",
       "       [ 2.16573571e+00,  2.50649925e+00],\n",
       "       [-1.47553789e+00,  7.11480508e-01],\n",
       "       [-9.29749485e-01,  2.72051478e+00],\n",
       "       [-1.91252221e+00,  2.51142573e+00],\n",
       "       [ 1.71099872e+00,  1.40604731e+00],\n",
       "       [ 1.24138379e+00,  2.67668118e+00],\n",
       "       [ 1.87551842e+00,  1.29992973e+00],\n",
       "       [-1.87217498e+00,  3.94816692e+00],\n",
       "       [-1.64962646e+00,  1.27033822e+00],\n",
       "       [ 4.58425588e+00,  5.48422581e+00],\n",
       "       [-3.32523930e+00,  8.04877899e-02],\n",
       "       [-1.74131442e+00,  2.97095155e+00],\n",
       "       [-1.58161457e+00,  2.19667242e+00],\n",
       "       [ 1.87166405e+00,  2.69040881e+00],\n",
       "       [-6.28961331e-02,  4.52558068e+00]])"
      ]
     },
     "execution_count": 8,
     "metadata": {},
     "output_type": "execute_result"
    }
   ],
   "source": [
    "x"
   ]
  },
  {
   "cell_type": "code",
   "execution_count": 9,
   "id": "b0b59f95",
   "metadata": {},
   "outputs": [],
   "source": [
    "x_train=x[0:int(0.8*x.shape[0]),:]\n",
    "y_train=y[0:int(0.8*x.shape[0])]"
   ]
  },
  {
   "cell_type": "code",
   "execution_count": 10,
   "id": "90b29ae6",
   "metadata": {},
   "outputs": [
    {
     "data": {
      "text/plain": [
       "array([[ 1.27071018e-01,  1.01304200e+00],\n",
       "       [ 2.31293463e+00,  3.77053357e+00],\n",
       "       [ 3.34042818e+00,  3.42099601e+00],\n",
       "       [ 3.29454774e+00,  5.95619812e-01],\n",
       "       [ 1.94410516e+00,  1.47724090e+00],\n",
       "       [-1.11959689e+00,  1.50891314e+00],\n",
       "       [ 1.15108470e+00,  1.81007677e+00],\n",
       "       [-1.00745441e+00,  5.47157435e-01],\n",
       "       [-2.25396925e+00,  1.06769236e+00],\n",
       "       [-1.24392415e+00,  2.19979806e+00],\n",
       "       [-2.92089280e+00,  3.91894990e+00],\n",
       "       [-5.11937308e-01,  4.50578584e+00],\n",
       "       [ 3.25751204e+00,  2.81515089e+00],\n",
       "       [-4.12190908e+00,  1.62220145e+00],\n",
       "       [ 2.87768113e+00,  1.51095984e+00],\n",
       "       [-5.32144582e-01,  1.78719280e+00],\n",
       "       [ 1.48404809e+00,  1.04843842e+00],\n",
       "       [-1.54235518e+00,  4.49536942e+00],\n",
       "       [ 2.04235818e+00,  2.10204918e+00],\n",
       "       [ 2.63367133e+00,  1.59219328e+00],\n",
       "       [ 2.85756778e+00,  2.73826470e+00],\n",
       "       [-3.41167954e+00,  1.93790864e-01],\n",
       "       [ 1.87481918e+00,  1.48815664e+00],\n",
       "       [-9.04709980e-01,  1.57526555e+00],\n",
       "       [-2.64994223e+00,  9.33040831e-01],\n",
       "       [ 3.47546506e-01,  8.08410512e-01],\n",
       "       [ 3.10252081e+00,  3.34684404e+00],\n",
       "       [ 3.95744630e+00,  3.01418031e+00],\n",
       "       [-2.70056309e+00,  8.06661542e-01],\n",
       "       [ 1.86204356e+00,  1.66498993e+00],\n",
       "       [-6.98372089e-01,  1.22791173e+00],\n",
       "       [ 2.96734507e+00,  2.82610109e+00],\n",
       "       [-1.69103890e+00,  1.46491472e+00],\n",
       "       [ 4.66332221e+00,  3.15367981e+00],\n",
       "       [ 3.34878990e+00,  3.70680122e+00],\n",
       "       [-1.10191136e+00,  3.46219750e+00],\n",
       "       [-2.09936351e+00,  2.47691125e+00],\n",
       "       [-1.47995197e+00,  3.03891075e+00],\n",
       "       [-3.54154743e+00,  2.02491255e+00],\n",
       "       [-6.42655523e-01,  2.07566374e+00],\n",
       "       [-2.54796112e+00,  2.70994209e+00],\n",
       "       [-5.81268563e-01,  9.37400958e-01],\n",
       "       [-1.72131493e+00,  5.35798732e-01],\n",
       "       [ 2.25197222e+00,  1.92017185e+00],\n",
       "       [-1.44891081e+00,  1.07879940e+00],\n",
       "       [-2.70707082e+00,  1.49983212e+00],\n",
       "       [-1.13866279e+00,  2.02062147e-01],\n",
       "       [-4.58217856e-01,  1.01195939e+00],\n",
       "       [ 2.78797488e+00,  2.51412733e+00],\n",
       "       [-2.15134201e+00,  1.76927531e+00],\n",
       "       [ 2.10688432e+00,  1.54432827e+00],\n",
       "       [-2.00544154e+00,  2.52897328e+00],\n",
       "       [-3.41201542e+00,  2.64298205e-01],\n",
       "       [ 1.69472072e+00,  1.42543324e+00],\n",
       "       [ 1.44177614e+00,  1.10611039e+00],\n",
       "       [-1.38380103e+00,  3.47232413e+00],\n",
       "       [-3.40818907e+00,  4.88605909e-01],\n",
       "       [-2.76691875e+00,  9.00135128e-01],\n",
       "       [ 1.80125261e+00,  2.68489836e+00],\n",
       "       [ 3.97144919e+00,  2.55596825e+00],\n",
       "       [-1.20876699e+00,  2.12654681e+00],\n",
       "       [-2.54340720e+00,  3.58513456e+00],\n",
       "       [ 4.47055570e+00,  2.80157587e+00],\n",
       "       [-2.40349166e+00,  1.56949880e+00],\n",
       "       [-3.49380858e+00,  1.37984677e+00],\n",
       "       [-2.72457845e+00,  1.61903802e+00],\n",
       "       [-8.21449037e-01,  1.79797707e-01],\n",
       "       [-1.93877103e+00,  1.59519330e+00],\n",
       "       [ 1.82632031e+00,  1.74117663e+00],\n",
       "       [-2.52852845e+00,  1.85153651e+00],\n",
       "       [-2.46545609e+00,  2.27241291e+00],\n",
       "       [-1.35814150e+00,  3.80078624e+00],\n",
       "       [ 1.65511414e+00,  2.52522257e+00],\n",
       "       [ 2.43464287e+00,  1.88079636e+00],\n",
       "       [ 6.27823932e-01,  1.56938167e+00],\n",
       "       [-1.60404357e+00,  2.28617369e+00],\n",
       "       [ 8.75217780e-01,  1.40979613e+00],\n",
       "       [ 3.17795625e+00,  3.07341223e+00],\n",
       "       [ 2.22935956e+00,  2.03604499e+00],\n",
       "       [-1.72886112e+00, -2.21998218e-01],\n",
       "       [ 1.07785476e+00,  8.62057038e-01],\n",
       "       [-2.19667757e+00, -1.31681095e-01],\n",
       "       [ 3.07063090e+00,  2.62579107e+00],\n",
       "       [ 3.64268527e+00,  3.05746083e+00],\n",
       "       [-3.14164582e-01,  5.73863501e-01],\n",
       "       [-7.47919484e-01,  1.70104307e+00],\n",
       "       [ 3.72588578e+00,  1.55612935e+00],\n",
       "       [-2.96954030e+00,  9.11134190e-01],\n",
       "       [-1.64061899e+00,  2.16106038e+00],\n",
       "       [-1.72784069e+00,  3.02854683e+00],\n",
       "       [-2.27509973e+00,  2.11346490e+00],\n",
       "       [ 3.06851179e+00,  5.00031846e-01],\n",
       "       [ 2.30344068e-01,  1.40081602e+00],\n",
       "       [-2.08582248e+00,  1.61470729e+00],\n",
       "       [ 1.68115929e+00,  1.32321218e+00],\n",
       "       [-1.62154585e+00,  3.99462288e+00],\n",
       "       [ 2.85205111e+00,  9.08818938e-01],\n",
       "       [ 1.27369333e+00,  2.30224218e+00],\n",
       "       [ 3.57621565e+00,  2.83260099e+00],\n",
       "       [-3.63559457e+00,  2.56006448e+00],\n",
       "       [ 1.02673783e+00,  3.01438813e+00],\n",
       "       [-3.35888098e+00,  3.83454480e+00],\n",
       "       [-1.68341504e+00,  3.21663265e+00],\n",
       "       [-2.19799362e+00,  9.48184434e-01],\n",
       "       [-2.07817905e+00, -7.38596363e-02],\n",
       "       [-1.76699391e+00, -2.54142322e-03],\n",
       "       [-1.35490992e+00,  2.55059358e+00],\n",
       "       [ 3.29801693e+00,  2.68519690e+00],\n",
       "       [ 2.91910213e+00,  1.71341025e+00],\n",
       "       [ 8.38714487e-01,  9.10479095e-01],\n",
       "       [ 3.14611901e+00,  2.65019133e+00],\n",
       "       [ 1.98184616e+00,  1.42321507e+00],\n",
       "       [ 2.11707051e+00,  2.91633584e+00],\n",
       "       [-1.96650639e+00,  2.82145399e+00],\n",
       "       [ 1.10497061e+00,  1.70366436e+00],\n",
       "       [ 2.55214461e+00,  3.08837827e+00],\n",
       "       [ 2.46896343e+00,  2.60157099e+00],\n",
       "       [-3.27093881e+00,  1.66814014e+00],\n",
       "       [-3.92452678e-01,  1.29686204e+00],\n",
       "       [-1.95524140e-01,  5.87477124e-01],\n",
       "       [ 1.00715787e+00,  1.62259975e+00],\n",
       "       [ 9.38483049e-02,  1.29007337e+00],\n",
       "       [-2.59643538e+00,  3.11527751e+00],\n",
       "       [-1.14989682e+00,  4.61729861e+00],\n",
       "       [ 2.76584782e+00,  1.95281272e+00],\n",
       "       [-7.43669514e-01,  1.53589965e+00],\n",
       "       [-1.77056029e+00,  7.29437012e-01],\n",
       "       [-1.44758139e+00,  1.71376284e+00],\n",
       "       [ 2.09515770e+00,  2.64017517e+00],\n",
       "       [-1.58215572e+00,  1.16041392e+00],\n",
       "       [-3.09153366e+00,  1.59971620e+00],\n",
       "       [ 3.05886828e+00,  2.37308530e+00],\n",
       "       [ 2.96508651e+00,  2.25979692e+00],\n",
       "       [ 1.50513533e+00,  1.20050629e+00],\n",
       "       [ 2.10808220e+00,  2.34527769e+00],\n",
       "       [ 2.51045023e+00,  1.79961159e+00],\n",
       "       [-2.95152462e+00,  6.25314397e-01],\n",
       "       [-3.49206972e+00,  1.36324656e+00],\n",
       "       [-2.33195632e+00,  3.68281146e+00],\n",
       "       [-2.60645651e+00,  2.99630075e+00],\n",
       "       [-1.01661337e+00,  2.11755370e+00],\n",
       "       [-9.89056225e-01,  3.53762706e+00],\n",
       "       [ 1.39099533e+00,  2.11157579e+00],\n",
       "       [-1.06789396e+00,  2.53020724e+00],\n",
       "       [ 1.04728122e+00,  1.84428765e+00],\n",
       "       [-1.25130391e+00,  1.73608209e+00],\n",
       "       [-1.50660604e+00,  1.10678033e+00],\n",
       "       [ 2.29225586e+00,  2.44570243e+00],\n",
       "       [ 2.41652304e+00,  2.54016420e+00],\n",
       "       [ 3.16084506e+00,  2.13805493e+00],\n",
       "       [ 1.17155907e+00,  1.73048287e+00],\n",
       "       [ 1.56194739e+00,  2.01902056e+00],\n",
       "       [-2.56797304e+00,  2.51290196e-01],\n",
       "       [ 2.90943517e+00,  1.07475541e+00],\n",
       "       [ 2.88944759e+00,  1.97729293e+00],\n",
       "       [ 8.87869106e-02,  1.94134276e+00],\n",
       "       [ 8.43468244e-01,  1.37372696e+00],\n",
       "       [-2.27723853e+00,  2.67754452e+00],\n",
       "       [ 1.17677464e+00,  1.36618904e+00],\n",
       "       [-1.88028773e+00,  1.19649562e+00]])"
      ]
     },
     "execution_count": 10,
     "metadata": {},
     "output_type": "execute_result"
    }
   ],
   "source": [
    "x_train"
   ]
  },
  {
   "cell_type": "code",
   "execution_count": 11,
   "id": "77425649",
   "metadata": {},
   "outputs": [
    {
     "data": {
      "text/plain": [
       "(160, 2)"
      ]
     },
     "execution_count": 11,
     "metadata": {},
     "output_type": "execute_result"
    }
   ],
   "source": [
    "x_train.shape"
   ]
  },
  {
   "cell_type": "code",
   "execution_count": 12,
   "id": "fcc705d1",
   "metadata": {},
   "outputs": [
    {
     "data": {
      "text/plain": [
       "array([1, 1, 1, 1, 1, 0, 1, 0, 0, 0, 0, 0, 1, 0, 1, 0, 1, 0, 1, 1, 1, 0,\n",
       "       1, 0, 0, 1, 1, 1, 0, 1, 0, 1, 0, 1, 1, 0, 0, 0, 0, 0, 0, 0, 0, 1,\n",
       "       0, 0, 0, 0, 1, 0, 1, 0, 0, 1, 1, 0, 0, 0, 1, 1, 0, 0, 1, 0, 0, 0,\n",
       "       0, 0, 1, 0, 0, 0, 1, 1, 1, 0, 1, 1, 1, 0, 1, 0, 1, 1, 0, 0, 1, 0,\n",
       "       0, 0, 0, 1, 1, 0, 1, 0, 1, 1, 1, 0, 1, 0, 0, 0, 0, 0, 0, 1, 1, 0,\n",
       "       1, 1, 1, 0, 1, 1, 1, 0, 1, 1, 1, 1, 0, 0, 1, 0, 1, 0, 1, 0, 0, 1,\n",
       "       1, 1, 1, 1, 0, 0, 0, 0, 0, 0, 1, 0, 1, 0, 0, 1, 1, 1, 1, 1, 0, 1,\n",
       "       1, 1, 1, 0, 1, 0], dtype=int64)"
      ]
     },
     "execution_count": 12,
     "metadata": {},
     "output_type": "execute_result"
    }
   ],
   "source": [
    "y_train"
   ]
  },
  {
   "cell_type": "code",
   "execution_count": 13,
   "id": "4abe81f4",
   "metadata": {},
   "outputs": [
    {
     "data": {
      "text/plain": [
       "(160,)"
      ]
     },
     "execution_count": 13,
     "metadata": {},
     "output_type": "execute_result"
    }
   ],
   "source": [
    "y_train.shape"
   ]
  },
  {
   "cell_type": "code",
   "execution_count": 14,
   "id": "663ec1aa",
   "metadata": {},
   "outputs": [],
   "source": [
    "x_test=x[int(0.8*x.shape[0]):,:]\n",
    "y_test=y[int(0.8*x.shape[0]):]"
   ]
  },
  {
   "cell_type": "code",
   "execution_count": 15,
   "id": "7f033cfc",
   "metadata": {},
   "outputs": [
    {
     "data": {
      "text/plain": [
       "array([[-3.44168668,  2.84346099],\n",
       "       [-0.76109699,  1.69843315],\n",
       "       [-1.71809799,  2.2847179 ],\n",
       "       [ 1.97059618,  1.57621593],\n",
       "       [ 1.31440771,  2.12561328],\n",
       "       [ 3.74022947,  1.52376227],\n",
       "       [-2.26435183,  1.76465751],\n",
       "       [ 1.65696708,  2.15419481],\n",
       "       [ 2.95795585,  2.62812515],\n",
       "       [ 2.37489728,  2.9532637 ],\n",
       "       [-1.30809618,  2.95043884],\n",
       "       [ 3.30799727,  2.16341341],\n",
       "       [ 1.81404363,  0.64151964],\n",
       "       [-0.30697698,  3.41232056],\n",
       "       [-1.59666542,  0.90877486],\n",
       "       [ 2.65912112,  0.88253992],\n",
       "       [-0.21428968,  2.87839005],\n",
       "       [ 1.63325054,  2.06751302],\n",
       "       [ 1.67392583,  3.48277463],\n",
       "       [ 1.32688158,  2.04961997],\n",
       "       [ 2.46965534,  1.71961349],\n",
       "       [ 1.37226849,  2.33797626],\n",
       "       [-3.56426542,  3.55034764],\n",
       "       [ 1.52805555,  1.53838702],\n",
       "       [ 2.95082039,  1.61542493],\n",
       "       [ 2.16573571,  2.50649925],\n",
       "       [-1.47553789,  0.71148051],\n",
       "       [-0.92974949,  2.72051478],\n",
       "       [-1.91252221,  2.51142573],\n",
       "       [ 1.71099872,  1.40604731],\n",
       "       [ 1.24138379,  2.67668118],\n",
       "       [ 1.87551842,  1.29992973],\n",
       "       [-1.87217498,  3.94816692],\n",
       "       [-1.64962646,  1.27033822],\n",
       "       [ 4.58425588,  5.48422581],\n",
       "       [-3.3252393 ,  0.08048779],\n",
       "       [-1.74131442,  2.97095155],\n",
       "       [-1.58161457,  2.19667242],\n",
       "       [ 1.87166405,  2.69040881],\n",
       "       [-0.06289613,  4.52558068]])"
      ]
     },
     "execution_count": 15,
     "metadata": {},
     "output_type": "execute_result"
    }
   ],
   "source": [
    "x_test"
   ]
  },
  {
   "cell_type": "code",
   "execution_count": 16,
   "id": "64cd2f66",
   "metadata": {},
   "outputs": [
    {
     "data": {
      "text/plain": [
       "(40, 2)"
      ]
     },
     "execution_count": 16,
     "metadata": {},
     "output_type": "execute_result"
    }
   ],
   "source": [
    "x_test.shape"
   ]
  },
  {
   "cell_type": "code",
   "execution_count": null,
   "id": "49e027ec",
   "metadata": {},
   "outputs": [],
   "source": []
  },
  {
   "cell_type": "code",
   "execution_count": 17,
   "id": "05455482",
   "metadata": {},
   "outputs": [
    {
     "data": {
      "text/plain": [
       "array([0, 0, 0, 1, 1, 1, 0, 1, 1, 1, 0, 1, 1, 0, 0, 1, 0, 1, 1, 1, 1, 1,\n",
       "       0, 1, 1, 1, 0, 0, 0, 1, 1, 1, 0, 0, 1, 0, 0, 0, 1, 0], dtype=int64)"
      ]
     },
     "execution_count": 17,
     "metadata": {},
     "output_type": "execute_result"
    }
   ],
   "source": [
    "y_test"
   ]
  },
  {
   "cell_type": "code",
   "execution_count": 18,
   "id": "bd6fd1d3",
   "metadata": {},
   "outputs": [
    {
     "data": {
      "text/plain": [
       "(40,)"
      ]
     },
     "execution_count": 18,
     "metadata": {},
     "output_type": "execute_result"
    }
   ],
   "source": [
    "y_test.shape"
   ]
  },
  {
   "cell_type": "code",
   "execution_count": 19,
   "id": "51fbe6e6",
   "metadata": {},
   "outputs": [
    {
     "data": {
      "text/plain": [
       "<matplotlib.collections.PathCollection at 0x1f5d38b5590>"
      ]
     },
     "execution_count": 19,
     "metadata": {},
     "output_type": "execute_result"
    },
    {
     "data": {
      "image/png": "[encoded data removed]",
      "text/plain": [
       "<Figure size 640x480 with 1 Axes>"
      ]
     },
     "metadata": {},
     "output_type": "display_data"
    }
   ],
   "source": [
    "plt.scatter(x[:,0],x[:,1],c=y)"
   ]
  },
  {
   "cell_type": "code",
   "execution_count": 36,
   "id": "538317b2",
   "metadata": {},
   "outputs": [],
   "source": [
    "n=x_train.shape[1]\n",
    "w=np.random.randn(n)\n",
    "b=0"
   ]
  },
  {
   "cell_type": "code",
   "execution_count": 37,
   "id": "002cfa4a",
   "metadata": {},
   "outputs": [],
   "source": [
    "def pred(x,w,b):   \n",
    "    return 1/(1+np.exp(-(np.dot(x,w)+b)))\n"
   ]
  },
  {
   "cell_type": "code",
   "execution_count": 38,
   "id": "8cf10e01",
   "metadata": {},
   "outputs": [],
   "source": [
    "def cost_ftn(y_hat,y):\n",
    "    m=y_hat.shape[0]\n",
    "    return np.sum(-y*np.log(y_hat)-(1-y)*(np.log(1-y_hat)))/m"
   ]
  },
  {
   "cell_type": "code",
   "execution_count": null,
   "id": "1a998087",
   "metadata": {},
   "outputs": [],
   "source": []
  },
  {
   "cell_type": "code",
   "execution_count": 39,
   "id": "60023ef4",
   "metadata": {},
   "outputs": [],
   "source": [
    "def gradient(x,y,w,b):\n",
    "    lr=0.01\n",
    "    epochs=1000\n",
    "    m=y.shape[0]\n",
    "    cost=[]\n",
    "    it=[]\n",
    "    for i in range (epochs):\n",
    "        y_hat=pred(x,w,b)\n",
    "        dw=np.dot(x.T,y_hat-y)/m\n",
    "        db=np.mean(y_hat-y)\n",
    "        w-=lr*dw\n",
    "        b-=lr*db\n",
    "        cost.append(cost_ftn(y_hat,y))\n",
    "        it.append(i)\n",
    "    return w,b,cost,it"
   ]
  },
  {
   "cell_type": "code",
   "execution_count": null,
   "id": "68983ee7",
   "metadata": {},
   "outputs": [],
   "source": []
  },
  {
   "cell_type": "code",
   "execution_count": 40,
   "id": "099388dc",
   "metadata": {},
   "outputs": [],
   "source": [
    "ww,bb,cost,it=gradient(x_train,y_train,w,b)"
   ]
  },
  {
   "cell_type": "code",
   "execution_count": null,
   "id": "c39c5876",
   "metadata": {},
   "outputs": [],
   "source": []
  },
  {
   "cell_type": "code",
   "execution_count": 41,
   "id": "f4867c25",
   "metadata": {},
   "outputs": [
    {
     "data": {
      "text/plain": [
       "0.12262882695077033"
      ]
     },
     "execution_count": 41,
     "metadata": {},
     "output_type": "execute_result"
    }
   ],
   "source": [
    "cost[-1]"
   ]
  },
  {
   "cell_type": "code",
   "execution_count": 42,
   "id": "e311143f",
   "metadata": {},
   "outputs": [
    {
     "data": {
      "text/plain": [
       "[<matplotlib.lines.Line2D at 0x1f5d5863290>]"
      ]
     },
     "execution_count": 42,
     "metadata": {},
     "output_type": "execute_result"
    },
    {
     "data": {
      "image/png": "[encoded data removed]",
      "text/plain": [
       "<Figure size 640x480 with 1 Axes>"
      ]
     },
     "metadata": {},
     "output_type": "display_data"
    }
   ],
   "source": [
    "plt.plot(it,cost)"
   ]
  },
  {
   "cell_type": "code",
   "execution_count": 43,
   "id": "b9a03c0d",
   "metadata": {},
   "outputs": [
    {
     "data": {
      "text/plain": [
       "100.0"
      ]
     },
     "execution_count": 43,
     "metadata": {},
     "output_type": "execute_result"
    }
   ],
   "source": [
    "preds=pred(x_test,ww,bb)\n",
    "preds=np.where(preds>=0.5,1,0)\n",
    "np.mean(preds==y_test) * 100"
   ]
  },
  {
   "cell_type": "code",
   "execution_count": 44,
   "id": "3d3ea908",
   "metadata": {},
   "outputs": [
    {
     "name": "stdout",
     "output_type": "stream",
     "text": [
      "predictions [0 0 0 1 1 1 0 1 1 1 0 1 1 0 0 1 0 1 1 1 1 1 0 1 1 1 0 0 0 1 1 1 0 0 1 0 0\n",
      " 0 1 0]\n",
      "actual [0 0 0 1 1 1 0 1 1 1 0 1 1 0 0 1 0 1 1 1 1 1 0 1 1 1 0 0 0 1 1 1 0 0 1 0 0\n",
      " 0 1 0]\n"
     ]
    }
   ],
   "source": [
    "print('predictions',preds)\n",
    "print('actual',y_test)"
   ]
  },
  {
   "cell_type": "code",
   "execution_count": 45,
   "id": "486eccd1",
   "metadata": {},
   "outputs": [
    {
     "data": {
      "text/plain": [
       "<matplotlib.collections.PathCollection at 0x1f5d5835a50>"
      ]
     },
     "execution_count": 45,
     "metadata": {},
     "output_type": "execute_result"
    },
    {
     "data": {
      "image/png": "[encoded data removed]",
      "text/plain": [
       "<Figure size 640x480 with 1 Axes>"
      ]
     },
     "metadata": {},
     "output_type": "display_data"
    }
   ],
   "source": [
    "plt.scatter(x_test[:,0],x_test[:,1],c=y_test)"
   ]
  },
  {
   "cell_type": "code",
   "execution_count": null,
   "id": "90172493",
   "metadata": {},
   "outputs": [],
   "source": []
  },
  {
   "cell_type": "code",
   "execution_count": null,
   "id": "fb3cfa51",
   "metadata": {},
   "outputs": [],
   "source": []
  },
  {
   "cell_type": "code",
   "execution_count": 53,
   "id": "d92e4cc7",
   "metadata": {},
   "outputs": [
    {
     "data": {
      "image/png": "[encoded data removed]",
      "text/plain": [
       "<Figure size 640x480 with 1 Axes>"
      ]
     },
     "metadata": {},
     "output_type": "display_data"
    }
   ],
   "source": [
    "# Define step size for mesh grid\n",
    "step_size = 0.01\n",
    "\n",
    "# Create mesh grid based on feature ranges\n",
    "X1, X2 = np.meshgrid(\n",
    "    np.arange(start=X_set[:, 0].min() - 1, stop=X_set[:, 0].max() + 1, step=step_size),\n",
    "    np.arange(start=X_set[:, 1].min() - 1, stop=X_set[:, 1].max() + 1, step=step_size)\n",
    ")\n",
    "\n",
    "# Get the predictions for each point in the mesh grid\n",
    "Z = pred(np.c_[X1.ravel(), X2.ravel()], ww, bb)\n",
    "Z = Z.reshape(X1.shape)\n",
    "\n",
    "# Update contour plot to show only a single decision boundary\n",
    "plt.contour(X1, X2, Z, levels=[0.5], colors='blue', linewidths=2)\n",
    "\n",
    "# Plotting test points with actual labels\n",
    "for i, j in enumerate(np.unique(y_set)):\n",
    "    plt.scatter(X_set[y_set == j, 0], X_set[y_set == j, 1], \n",
    "                color=ListedColormap(('red', 'green'))(i), label=f'Class {j}')\n",
    "\n",
    "plt.title('Decision Boundary with Custom Classifier')\n",
    "plt.xlabel('Feature 1')\n",
    "plt.ylabel('Feature 2')\n",
    "plt.legend()\n",
    "plt.show()\n"
   ]
  },
  {
   "cell_type": "code",
   "execution_count": 54,
   "id": "79f19131",
   "metadata": {},
   "outputs": [
    {
     "data": {
      "text/html": [
       "<div>\n",
       "<style scoped>\n",
       "    .dataframe tbody tr th:only-of-type {\n",
       "        vertical-align: middle;\n",
       "    }\n",
       "\n",
       "    .dataframe tbody tr th {\n",
       "        vertical-align: top;\n",
       "    }\n",
       "\n",
       "    .dataframe thead th {\n",
       "        text-align: right;\n",
       "    }\n",
       "</style>\n",
       "<table border=\"1\" class=\"dataframe\">\n",
       "  <thead>\n",
       "    <tr style=\"text-align: right;\">\n",
       "      <th></th>\n",
       "      <th>Age</th>\n",
       "      <th>EstimatedSalary</th>\n",
       "      <th>Purchased</th>\n",
       "    </tr>\n",
       "  </thead>\n",
       "  <tbody>\n",
       "    <tr>\n",
       "      <th>0</th>\n",
       "      <td>19</td>\n",
       "      <td>19000</td>\n",
       "      <td>0</td>\n",
       "    </tr>\n",
       "    <tr>\n",
       "      <th>1</th>\n",
       "      <td>35</td>\n",
       "      <td>20000</td>\n",
       "      <td>0</td>\n",
       "    </tr>\n",
       "    <tr>\n",
       "      <th>2</th>\n",
       "      <td>26</td>\n",
       "      <td>43000</td>\n",
       "      <td>0</td>\n",
       "    </tr>\n",
       "    <tr>\n",
       "      <th>3</th>\n",
       "      <td>27</td>\n",
       "      <td>57000</td>\n",
       "      <td>0</td>\n",
       "    </tr>\n",
       "    <tr>\n",
       "      <th>4</th>\n",
       "      <td>19</td>\n",
       "      <td>76000</td>\n",
       "      <td>0</td>\n",
       "    </tr>\n",
       "    <tr>\n",
       "      <th>...</th>\n",
       "      <td>...</td>\n",
       "      <td>...</td>\n",
       "      <td>...</td>\n",
       "    </tr>\n",
       "    <tr>\n",
       "      <th>395</th>\n",
       "      <td>46</td>\n",
       "      <td>41000</td>\n",
       "      <td>1</td>\n",
       "    </tr>\n",
       "    <tr>\n",
       "      <th>396</th>\n",
       "      <td>51</td>\n",
       "      <td>23000</td>\n",
       "      <td>1</td>\n",
       "    </tr>\n",
       "    <tr>\n",
       "      <th>397</th>\n",
       "      <td>50</td>\n",
       "      <td>20000</td>\n",
       "      <td>1</td>\n",
       "    </tr>\n",
       "    <tr>\n",
       "      <th>398</th>\n",
       "      <td>36</td>\n",
       "      <td>33000</td>\n",
       "      <td>0</td>\n",
       "    </tr>\n",
       "    <tr>\n",
       "      <th>399</th>\n",
       "      <td>49</td>\n",
       "      <td>36000</td>\n",
       "      <td>1</td>\n",
       "    </tr>\n",
       "  </tbody>\n",
       "</table>\n",
       "<p>400 rows × 3 columns</p>\n",
       "</div>"
      ],
      "text/plain": [
       "     Age  EstimatedSalary  Purchased\n",
       "0     19            19000          0\n",
       "1     35            20000          0\n",
       "2     26            43000          0\n",
       "3     27            57000          0\n",
       "4     19            76000          0\n",
       "..   ...              ...        ...\n",
       "395   46            41000          1\n",
       "396   51            23000          1\n",
       "397   50            20000          1\n",
       "398   36            33000          0\n",
       "399   49            36000          1\n",
       "\n",
       "[400 rows x 3 columns]"
      ]
     },
     "execution_count": 54,
     "metadata": {},
     "output_type": "execute_result"
    }
   ],
   "source": [
    "data1=pd.read_csv('Social_Network_Ads.csv')\n",
    "data1"
   ]
  },
  {
   "cell_type": "code",
   "execution_count": 55,
   "id": "7be1b7b6",
   "metadata": {},
   "outputs": [
    {
     "data": {
      "text/plain": [
       "(400, 3)"
      ]
     },
     "execution_count": 55,
     "metadata": {},
     "output_type": "execute_result"
    }
   ],
   "source": [
    "data1.shape"
   ]
  },
  {
   "cell_type": "code",
   "execution_count": 56,
   "id": "a8fe6799",
   "metadata": {},
   "outputs": [],
   "source": [
    "x1=data1.drop(columns=['Purchased']).values"
   ]
  },
  {
   "cell_type": "code",
   "execution_count": 57,
   "id": "f4c9fafd",
   "metadata": {},
   "outputs": [
    {
     "data": {
      "text/plain": [
       "array([[    19,  19000],\n",
       "       [    35,  20000],\n",
       "       [    26,  43000],\n",
       "       [    27,  57000],\n",
       "       [    19,  76000],\n",
       "       [    27,  58000],\n",
       "       [    27,  84000],\n",
       "       [    32, 150000],\n",
       "       [    25,  33000],\n",
       "       [    35,  65000],\n",
       "       [    26,  80000],\n",
       "       [    26,  52000],\n",
       "       [    20,  86000],\n",
       "       [    32,  18000],\n",
       "       [    18,  82000],\n",
       "       [    29,  80000],\n",
       "       [    47,  25000],\n",
       "       [    45,  26000],\n",
       "       [    46,  28000],\n",
       "       [    48,  29000],\n",
       "       [    45,  22000],\n",
       "       [    47,  49000],\n",
       "       [    48,  41000],\n",
       "       [    45,  22000],\n",
       "       [    46,  23000],\n",
       "       [    47,  20000],\n",
       "       [    49,  28000],\n",
       "       [    47,  30000],\n",
       "       [    29,  43000],\n",
       "       [    31,  18000],\n",
       "       [    31,  74000],\n",
       "       [    27, 137000],\n",
       "       [    21,  16000],\n",
       "       [    28,  44000],\n",
       "       [    27,  90000],\n",
       "       [    35,  27000],\n",
       "       [    33,  28000],\n",
       "       [    30,  49000],\n",
       "       [    26,  72000],\n",
       "       [    27,  31000],\n",
       "       [    27,  17000],\n",
       "       [    33,  51000],\n",
       "       [    35, 108000],\n",
       "       [    30,  15000],\n",
       "       [    28,  84000],\n",
       "       [    23,  20000],\n",
       "       [    25,  79000],\n",
       "       [    27,  54000],\n",
       "       [    30, 135000],\n",
       "       [    31,  89000],\n",
       "       [    24,  32000],\n",
       "       [    18,  44000],\n",
       "       [    29,  83000],\n",
       "       [    35,  23000],\n",
       "       [    27,  58000],\n",
       "       [    24,  55000],\n",
       "       [    23,  48000],\n",
       "       [    28,  79000],\n",
       "       [    22,  18000],\n",
       "       [    32, 117000],\n",
       "       [    27,  20000],\n",
       "       [    25,  87000],\n",
       "       [    23,  66000],\n",
       "       [    32, 120000],\n",
       "       [    59,  83000],\n",
       "       [    24,  58000],\n",
       "       [    24,  19000],\n",
       "       [    23,  82000],\n",
       "       [    22,  63000],\n",
       "       [    31,  68000],\n",
       "       [    25,  80000],\n",
       "       [    24,  27000],\n",
       "       [    20,  23000],\n",
       "       [    33, 113000],\n",
       "       [    32,  18000],\n",
       "       [    34, 112000],\n",
       "       [    18,  52000],\n",
       "       [    22,  27000],\n",
       "       [    28,  87000],\n",
       "       [    26,  17000],\n",
       "       [    30,  80000],\n",
       "       [    39,  42000],\n",
       "       [    20,  49000],\n",
       "       [    35,  88000],\n",
       "       [    30,  62000],\n",
       "       [    31, 118000],\n",
       "       [    24,  55000],\n",
       "       [    28,  85000],\n",
       "       [    26,  81000],\n",
       "       [    35,  50000],\n",
       "       [    22,  81000],\n",
       "       [    30, 116000],\n",
       "       [    26,  15000],\n",
       "       [    29,  28000],\n",
       "       [    29,  83000],\n",
       "       [    35,  44000],\n",
       "       [    35,  25000],\n",
       "       [    28, 123000],\n",
       "       [    35,  73000],\n",
       "       [    28,  37000],\n",
       "       [    27,  88000],\n",
       "       [    28,  59000],\n",
       "       [    32,  86000],\n",
       "       [    33, 149000],\n",
       "       [    19,  21000],\n",
       "       [    21,  72000],\n",
       "       [    26,  35000],\n",
       "       [    27,  89000],\n",
       "       [    26,  86000],\n",
       "       [    38,  80000],\n",
       "       [    39,  71000],\n",
       "       [    37,  71000],\n",
       "       [    38,  61000],\n",
       "       [    37,  55000],\n",
       "       [    42,  80000],\n",
       "       [    40,  57000],\n",
       "       [    35,  75000],\n",
       "       [    36,  52000],\n",
       "       [    40,  59000],\n",
       "       [    41,  59000],\n",
       "       [    36,  75000],\n",
       "       [    37,  72000],\n",
       "       [    40,  75000],\n",
       "       [    35,  53000],\n",
       "       [    41,  51000],\n",
       "       [    39,  61000],\n",
       "       [    42,  65000],\n",
       "       [    26,  32000],\n",
       "       [    30,  17000],\n",
       "       [    26,  84000],\n",
       "       [    31,  58000],\n",
       "       [    33,  31000],\n",
       "       [    30,  87000],\n",
       "       [    21,  68000],\n",
       "       [    28,  55000],\n",
       "       [    23,  63000],\n",
       "       [    20,  82000],\n",
       "       [    30, 107000],\n",
       "       [    28,  59000],\n",
       "       [    19,  25000],\n",
       "       [    19,  85000],\n",
       "       [    18,  68000],\n",
       "       [    35,  59000],\n",
       "       [    30,  89000],\n",
       "       [    34,  25000],\n",
       "       [    24,  89000],\n",
       "       [    27,  96000],\n",
       "       [    41,  30000],\n",
       "       [    29,  61000],\n",
       "       [    20,  74000],\n",
       "       [    26,  15000],\n",
       "       [    41,  45000],\n",
       "       [    31,  76000],\n",
       "       [    36,  50000],\n",
       "       [    40,  47000],\n",
       "       [    31,  15000],\n",
       "       [    46,  59000],\n",
       "       [    29,  75000],\n",
       "       [    26,  30000],\n",
       "       [    32, 135000],\n",
       "       [    32, 100000],\n",
       "       [    25,  90000],\n",
       "       [    37,  33000],\n",
       "       [    35,  38000],\n",
       "       [    33,  69000],\n",
       "       [    18,  86000],\n",
       "       [    22,  55000],\n",
       "       [    35,  71000],\n",
       "       [    29, 148000],\n",
       "       [    29,  47000],\n",
       "       [    21,  88000],\n",
       "       [    34, 115000],\n",
       "       [    26, 118000],\n",
       "       [    34,  43000],\n",
       "       [    34,  72000],\n",
       "       [    23,  28000],\n",
       "       [    35,  47000],\n",
       "       [    25,  22000],\n",
       "       [    24,  23000],\n",
       "       [    31,  34000],\n",
       "       [    26,  16000],\n",
       "       [    31,  71000],\n",
       "       [    32, 117000],\n",
       "       [    33,  43000],\n",
       "       [    33,  60000],\n",
       "       [    31,  66000],\n",
       "       [    20,  82000],\n",
       "       [    33,  41000],\n",
       "       [    35,  72000],\n",
       "       [    28,  32000],\n",
       "       [    24,  84000],\n",
       "       [    19,  26000],\n",
       "       [    29,  43000],\n",
       "       [    19,  70000],\n",
       "       [    28,  89000],\n",
       "       [    34,  43000],\n",
       "       [    30,  79000],\n",
       "       [    20,  36000],\n",
       "       [    26,  80000],\n",
       "       [    35,  22000],\n",
       "       [    35,  39000],\n",
       "       [    49,  74000],\n",
       "       [    39, 134000],\n",
       "       [    41,  71000],\n",
       "       [    58, 101000],\n",
       "       [    47,  47000],\n",
       "       [    55, 130000],\n",
       "       [    52, 114000],\n",
       "       [    40, 142000],\n",
       "       [    46,  22000],\n",
       "       [    48,  96000],\n",
       "       [    52, 150000],\n",
       "       [    59,  42000],\n",
       "       [    35,  58000],\n",
       "       [    47,  43000],\n",
       "       [    60, 108000],\n",
       "       [    49,  65000],\n",
       "       [    40,  78000],\n",
       "       [    46,  96000],\n",
       "       [    59, 143000],\n",
       "       [    41,  80000],\n",
       "       [    35,  91000],\n",
       "       [    37, 144000],\n",
       "       [    60, 102000],\n",
       "       [    35,  60000],\n",
       "       [    37,  53000],\n",
       "       [    36, 126000],\n",
       "       [    56, 133000],\n",
       "       [    40,  72000],\n",
       "       [    42,  80000],\n",
       "       [    35, 147000],\n",
       "       [    39,  42000],\n",
       "       [    40, 107000],\n",
       "       [    49,  86000],\n",
       "       [    38, 112000],\n",
       "       [    46,  79000],\n",
       "       [    40,  57000],\n",
       "       [    37,  80000],\n",
       "       [    46,  82000],\n",
       "       [    53, 143000],\n",
       "       [    42, 149000],\n",
       "       [    38,  59000],\n",
       "       [    50,  88000],\n",
       "       [    56, 104000],\n",
       "       [    41,  72000],\n",
       "       [    51, 146000],\n",
       "       [    35,  50000],\n",
       "       [    57, 122000],\n",
       "       [    41,  52000],\n",
       "       [    35,  97000],\n",
       "       [    44,  39000],\n",
       "       [    37,  52000],\n",
       "       [    48, 134000],\n",
       "       [    37, 146000],\n",
       "       [    50,  44000],\n",
       "       [    52,  90000],\n",
       "       [    41,  72000],\n",
       "       [    40,  57000],\n",
       "       [    58,  95000],\n",
       "       [    45, 131000],\n",
       "       [    35,  77000],\n",
       "       [    36, 144000],\n",
       "       [    55, 125000],\n",
       "       [    35,  72000],\n",
       "       [    48,  90000],\n",
       "       [    42, 108000],\n",
       "       [    40,  75000],\n",
       "       [    37,  74000],\n",
       "       [    47, 144000],\n",
       "       [    40,  61000],\n",
       "       [    43, 133000],\n",
       "       [    59,  76000],\n",
       "       [    60,  42000],\n",
       "       [    39, 106000],\n",
       "       [    57,  26000],\n",
       "       [    57,  74000],\n",
       "       [    38,  71000],\n",
       "       [    49,  88000],\n",
       "       [    52,  38000],\n",
       "       [    50,  36000],\n",
       "       [    59,  88000],\n",
       "       [    35,  61000],\n",
       "       [    37,  70000],\n",
       "       [    52,  21000],\n",
       "       [    48, 141000],\n",
       "       [    37,  93000],\n",
       "       [    37,  62000],\n",
       "       [    48, 138000],\n",
       "       [    41,  79000],\n",
       "       [    37,  78000],\n",
       "       [    39, 134000],\n",
       "       [    49,  89000],\n",
       "       [    55,  39000],\n",
       "       [    37,  77000],\n",
       "       [    35,  57000],\n",
       "       [    36,  63000],\n",
       "       [    42,  73000],\n",
       "       [    43, 112000],\n",
       "       [    45,  79000],\n",
       "       [    46, 117000],\n",
       "       [    58,  38000],\n",
       "       [    48,  74000],\n",
       "       [    37, 137000],\n",
       "       [    37,  79000],\n",
       "       [    40,  60000],\n",
       "       [    42,  54000],\n",
       "       [    51, 134000],\n",
       "       [    47, 113000],\n",
       "       [    36, 125000],\n",
       "       [    38,  50000],\n",
       "       [    42,  70000],\n",
       "       [    39,  96000],\n",
       "       [    38,  50000],\n",
       "       [    49, 141000],\n",
       "       [    39,  79000],\n",
       "       [    39,  75000],\n",
       "       [    54, 104000],\n",
       "       [    35,  55000],\n",
       "       [    45,  32000],\n",
       "       [    36,  60000],\n",
       "       [    52, 138000],\n",
       "       [    53,  82000],\n",
       "       [    41,  52000],\n",
       "       [    48,  30000],\n",
       "       [    48, 131000],\n",
       "       [    41,  60000],\n",
       "       [    41,  72000],\n",
       "       [    42,  75000],\n",
       "       [    36, 118000],\n",
       "       [    47, 107000],\n",
       "       [    38,  51000],\n",
       "       [    48, 119000],\n",
       "       [    42,  65000],\n",
       "       [    40,  65000],\n",
       "       [    57,  60000],\n",
       "       [    36,  54000],\n",
       "       [    58, 144000],\n",
       "       [    35,  79000],\n",
       "       [    38,  55000],\n",
       "       [    39, 122000],\n",
       "       [    53, 104000],\n",
       "       [    35,  75000],\n",
       "       [    38,  65000],\n",
       "       [    47,  51000],\n",
       "       [    47, 105000],\n",
       "       [    41,  63000],\n",
       "       [    53,  72000],\n",
       "       [    54, 108000],\n",
       "       [    39,  77000],\n",
       "       [    38,  61000],\n",
       "       [    38, 113000],\n",
       "       [    37,  75000],\n",
       "       [    42,  90000],\n",
       "       [    37,  57000],\n",
       "       [    36,  99000],\n",
       "       [    60,  34000],\n",
       "       [    54,  70000],\n",
       "       [    41,  72000],\n",
       "       [    40,  71000],\n",
       "       [    42,  54000],\n",
       "       [    43, 129000],\n",
       "       [    53,  34000],\n",
       "       [    47,  50000],\n",
       "       [    42,  79000],\n",
       "       [    42, 104000],\n",
       "       [    59,  29000],\n",
       "       [    58,  47000],\n",
       "       [    46,  88000],\n",
       "       [    38,  71000],\n",
       "       [    54,  26000],\n",
       "       [    60,  46000],\n",
       "       [    60,  83000],\n",
       "       [    39,  73000],\n",
       "       [    59, 130000],\n",
       "       [    37,  80000],\n",
       "       [    46,  32000],\n",
       "       [    46,  74000],\n",
       "       [    42,  53000],\n",
       "       [    41,  87000],\n",
       "       [    58,  23000],\n",
       "       [    42,  64000],\n",
       "       [    48,  33000],\n",
       "       [    44, 139000],\n",
       "       [    49,  28000],\n",
       "       [    57,  33000],\n",
       "       [    56,  60000],\n",
       "       [    49,  39000],\n",
       "       [    39,  71000],\n",
       "       [    47,  34000],\n",
       "       [    48,  35000],\n",
       "       [    48,  33000],\n",
       "       [    47,  23000],\n",
       "       [    45,  45000],\n",
       "       [    60,  42000],\n",
       "       [    39,  59000],\n",
       "       [    46,  41000],\n",
       "       [    51,  23000],\n",
       "       [    50,  20000],\n",
       "       [    36,  33000],\n",
       "       [    49,  36000]], dtype=int64)"
      ]
     },
     "execution_count": 57,
     "metadata": {},
     "output_type": "execute_result"
    }
   ],
   "source": [
    "x1"
   ]
  },
  {
   "cell_type": "code",
   "execution_count": 58,
   "id": "a941953d",
   "metadata": {},
   "outputs": [],
   "source": [
    "y1=data1['Purchased'].values"
   ]
  },
  {
   "cell_type": "code",
   "execution_count": 59,
   "id": "1203f000",
   "metadata": {},
   "outputs": [
    {
     "data": {
      "text/plain": [
       "array([0, 0, 0, 0, 0, 0, 0, 1, 0, 0, 0, 0, 0, 0, 0, 0, 1, 1, 1, 1, 1, 1,\n",
       "       1, 1, 1, 1, 1, 1, 0, 0, 0, 1, 0, 0, 0, 0, 0, 0, 0, 0, 0, 0, 0, 0,\n",
       "       0, 0, 0, 0, 1, 0, 0, 0, 0, 0, 0, 0, 0, 0, 0, 0, 0, 0, 0, 1, 0, 0,\n",
       "       0, 0, 0, 0, 0, 0, 0, 0, 0, 1, 0, 0, 0, 0, 0, 0, 0, 0, 0, 1, 0, 0,\n",
       "       0, 0, 0, 0, 0, 0, 0, 0, 0, 1, 0, 0, 0, 0, 0, 1, 0, 0, 0, 0, 0, 0,\n",
       "       0, 0, 0, 0, 0, 0, 0, 0, 0, 0, 0, 0, 0, 0, 0, 0, 0, 0, 0, 0, 0, 0,\n",
       "       0, 0, 0, 0, 0, 1, 0, 0, 0, 0, 0, 0, 0, 0, 1, 0, 0, 0, 0, 0, 0, 0,\n",
       "       0, 0, 0, 0, 0, 1, 1, 0, 0, 0, 0, 0, 0, 0, 1, 0, 0, 0, 0, 0, 0, 0,\n",
       "       0, 0, 0, 0, 0, 0, 1, 0, 0, 0, 0, 0, 0, 0, 0, 0, 0, 0, 0, 0, 0, 0,\n",
       "       0, 0, 0, 0, 1, 0, 1, 0, 1, 0, 1, 0, 1, 1, 0, 0, 0, 1, 0, 0, 0, 1,\n",
       "       0, 1, 1, 1, 0, 0, 1, 1, 0, 1, 1, 0, 1, 1, 0, 1, 0, 0, 0, 1, 1, 0,\n",
       "       1, 1, 0, 1, 0, 1, 0, 1, 0, 0, 1, 1, 0, 1, 0, 0, 1, 1, 0, 1, 1, 0,\n",
       "       1, 1, 0, 0, 1, 0, 0, 1, 1, 1, 1, 1, 0, 1, 1, 1, 1, 0, 1, 1, 0, 1,\n",
       "       0, 1, 0, 1, 1, 1, 1, 0, 0, 0, 1, 1, 0, 1, 1, 1, 1, 1, 0, 0, 0, 1,\n",
       "       1, 0, 0, 1, 0, 1, 0, 1, 1, 0, 1, 0, 1, 1, 0, 1, 1, 0, 0, 0, 1, 1,\n",
       "       0, 1, 0, 0, 1, 0, 1, 0, 0, 1, 1, 0, 0, 1, 1, 0, 1, 1, 0, 0, 1, 0,\n",
       "       1, 0, 1, 1, 1, 0, 1, 0, 1, 1, 1, 0, 1, 1, 1, 1, 0, 1, 1, 1, 0, 1,\n",
       "       0, 1, 0, 0, 1, 1, 0, 1, 1, 1, 1, 1, 1, 0, 1, 1, 1, 1, 1, 1, 0, 1,\n",
       "       1, 1, 0, 1], dtype=int64)"
      ]
     },
     "execution_count": 59,
     "metadata": {},
     "output_type": "execute_result"
    }
   ],
   "source": [
    "y1"
   ]
  },
  {
   "cell_type": "code",
   "execution_count": null,
   "id": "1a5dd27c",
   "metadata": {},
   "outputs": [],
   "source": []
  },
  {
   "cell_type": "code",
   "execution_count": 60,
   "id": "1c80cf6e",
   "metadata": {},
   "outputs": [],
   "source": [
    "xx_train=x1[0:int(0.8*x1.shape[0]),:]\n",
    "yy_train=y1[0:int(0.8*x1.shape[0])]"
   ]
  },
  {
   "cell_type": "code",
   "execution_count": 61,
   "id": "ffae1669",
   "metadata": {},
   "outputs": [
    {
     "data": {
      "text/plain": [
       "array([[    19,  19000],\n",
       "       [    35,  20000],\n",
       "       [    26,  43000],\n",
       "       [    27,  57000],\n",
       "       [    19,  76000],\n",
       "       [    27,  58000],\n",
       "       [    27,  84000],\n",
       "       [    32, 150000],\n",
       "       [    25,  33000],\n",
       "       [    35,  65000],\n",
       "       [    26,  80000],\n",
       "       [    26,  52000],\n",
       "       [    20,  86000],\n",
       "       [    32,  18000],\n",
       "       [    18,  82000],\n",
       "       [    29,  80000],\n",
       "       [    47,  25000],\n",
       "       [    45,  26000],\n",
       "       [    46,  28000],\n",
       "       [    48,  29000],\n",
       "       [    45,  22000],\n",
       "       [    47,  49000],\n",
       "       [    48,  41000],\n",
       "       [    45,  22000],\n",
       "       [    46,  23000],\n",
       "       [    47,  20000],\n",
       "       [    49,  28000],\n",
       "       [    47,  30000],\n",
       "       [    29,  43000],\n",
       "       [    31,  18000],\n",
       "       [    31,  74000],\n",
       "       [    27, 137000],\n",
       "       [    21,  16000],\n",
       "       [    28,  44000],\n",
       "       [    27,  90000],\n",
       "       [    35,  27000],\n",
       "       [    33,  28000],\n",
       "       [    30,  49000],\n",
       "       [    26,  72000],\n",
       "       [    27,  31000],\n",
       "       [    27,  17000],\n",
       "       [    33,  51000],\n",
       "       [    35, 108000],\n",
       "       [    30,  15000],\n",
       "       [    28,  84000],\n",
       "       [    23,  20000],\n",
       "       [    25,  79000],\n",
       "       [    27,  54000],\n",
       "       [    30, 135000],\n",
       "       [    31,  89000],\n",
       "       [    24,  32000],\n",
       "       [    18,  44000],\n",
       "       [    29,  83000],\n",
       "       [    35,  23000],\n",
       "       [    27,  58000],\n",
       "       [    24,  55000],\n",
       "       [    23,  48000],\n",
       "       [    28,  79000],\n",
       "       [    22,  18000],\n",
       "       [    32, 117000],\n",
       "       [    27,  20000],\n",
       "       [    25,  87000],\n",
       "       [    23,  66000],\n",
       "       [    32, 120000],\n",
       "       [    59,  83000],\n",
       "       [    24,  58000],\n",
       "       [    24,  19000],\n",
       "       [    23,  82000],\n",
       "       [    22,  63000],\n",
       "       [    31,  68000],\n",
       "       [    25,  80000],\n",
       "       [    24,  27000],\n",
       "       [    20,  23000],\n",
       "       [    33, 113000],\n",
       "       [    32,  18000],\n",
       "       [    34, 112000],\n",
       "       [    18,  52000],\n",
       "       [    22,  27000],\n",
       "       [    28,  87000],\n",
       "       [    26,  17000],\n",
       "       [    30,  80000],\n",
       "       [    39,  42000],\n",
       "       [    20,  49000],\n",
       "       [    35,  88000],\n",
       "       [    30,  62000],\n",
       "       [    31, 118000],\n",
       "       [    24,  55000],\n",
       "       [    28,  85000],\n",
       "       [    26,  81000],\n",
       "       [    35,  50000],\n",
       "       [    22,  81000],\n",
       "       [    30, 116000],\n",
       "       [    26,  15000],\n",
       "       [    29,  28000],\n",
       "       [    29,  83000],\n",
       "       [    35,  44000],\n",
       "       [    35,  25000],\n",
       "       [    28, 123000],\n",
       "       [    35,  73000],\n",
       "       [    28,  37000],\n",
       "       [    27,  88000],\n",
       "       [    28,  59000],\n",
       "       [    32,  86000],\n",
       "       [    33, 149000],\n",
       "       [    19,  21000],\n",
       "       [    21,  72000],\n",
       "       [    26,  35000],\n",
       "       [    27,  89000],\n",
       "       [    26,  86000],\n",
       "       [    38,  80000],\n",
       "       [    39,  71000],\n",
       "       [    37,  71000],\n",
       "       [    38,  61000],\n",
       "       [    37,  55000],\n",
       "       [    42,  80000],\n",
       "       [    40,  57000],\n",
       "       [    35,  75000],\n",
       "       [    36,  52000],\n",
       "       [    40,  59000],\n",
       "       [    41,  59000],\n",
       "       [    36,  75000],\n",
       "       [    37,  72000],\n",
       "       [    40,  75000],\n",
       "       [    35,  53000],\n",
       "       [    41,  51000],\n",
       "       [    39,  61000],\n",
       "       [    42,  65000],\n",
       "       [    26,  32000],\n",
       "       [    30,  17000],\n",
       "       [    26,  84000],\n",
       "       [    31,  58000],\n",
       "       [    33,  31000],\n",
       "       [    30,  87000],\n",
       "       [    21,  68000],\n",
       "       [    28,  55000],\n",
       "       [    23,  63000],\n",
       "       [    20,  82000],\n",
       "       [    30, 107000],\n",
       "       [    28,  59000],\n",
       "       [    19,  25000],\n",
       "       [    19,  85000],\n",
       "       [    18,  68000],\n",
       "       [    35,  59000],\n",
       "       [    30,  89000],\n",
       "       [    34,  25000],\n",
       "       [    24,  89000],\n",
       "       [    27,  96000],\n",
       "       [    41,  30000],\n",
       "       [    29,  61000],\n",
       "       [    20,  74000],\n",
       "       [    26,  15000],\n",
       "       [    41,  45000],\n",
       "       [    31,  76000],\n",
       "       [    36,  50000],\n",
       "       [    40,  47000],\n",
       "       [    31,  15000],\n",
       "       [    46,  59000],\n",
       "       [    29,  75000],\n",
       "       [    26,  30000],\n",
       "       [    32, 135000],\n",
       "       [    32, 100000],\n",
       "       [    25,  90000],\n",
       "       [    37,  33000],\n",
       "       [    35,  38000],\n",
       "       [    33,  69000],\n",
       "       [    18,  86000],\n",
       "       [    22,  55000],\n",
       "       [    35,  71000],\n",
       "       [    29, 148000],\n",
       "       [    29,  47000],\n",
       "       [    21,  88000],\n",
       "       [    34, 115000],\n",
       "       [    26, 118000],\n",
       "       [    34,  43000],\n",
       "       [    34,  72000],\n",
       "       [    23,  28000],\n",
       "       [    35,  47000],\n",
       "       [    25,  22000],\n",
       "       [    24,  23000],\n",
       "       [    31,  34000],\n",
       "       [    26,  16000],\n",
       "       [    31,  71000],\n",
       "       [    32, 117000],\n",
       "       [    33,  43000],\n",
       "       [    33,  60000],\n",
       "       [    31,  66000],\n",
       "       [    20,  82000],\n",
       "       [    33,  41000],\n",
       "       [    35,  72000],\n",
       "       [    28,  32000],\n",
       "       [    24,  84000],\n",
       "       [    19,  26000],\n",
       "       [    29,  43000],\n",
       "       [    19,  70000],\n",
       "       [    28,  89000],\n",
       "       [    34,  43000],\n",
       "       [    30,  79000],\n",
       "       [    20,  36000],\n",
       "       [    26,  80000],\n",
       "       [    35,  22000],\n",
       "       [    35,  39000],\n",
       "       [    49,  74000],\n",
       "       [    39, 134000],\n",
       "       [    41,  71000],\n",
       "       [    58, 101000],\n",
       "       [    47,  47000],\n",
       "       [    55, 130000],\n",
       "       [    52, 114000],\n",
       "       [    40, 142000],\n",
       "       [    46,  22000],\n",
       "       [    48,  96000],\n",
       "       [    52, 150000],\n",
       "       [    59,  42000],\n",
       "       [    35,  58000],\n",
       "       [    47,  43000],\n",
       "       [    60, 108000],\n",
       "       [    49,  65000],\n",
       "       [    40,  78000],\n",
       "       [    46,  96000],\n",
       "       [    59, 143000],\n",
       "       [    41,  80000],\n",
       "       [    35,  91000],\n",
       "       [    37, 144000],\n",
       "       [    60, 102000],\n",
       "       [    35,  60000],\n",
       "       [    37,  53000],\n",
       "       [    36, 126000],\n",
       "       [    56, 133000],\n",
       "       [    40,  72000],\n",
       "       [    42,  80000],\n",
       "       [    35, 147000],\n",
       "       [    39,  42000],\n",
       "       [    40, 107000],\n",
       "       [    49,  86000],\n",
       "       [    38, 112000],\n",
       "       [    46,  79000],\n",
       "       [    40,  57000],\n",
       "       [    37,  80000],\n",
       "       [    46,  82000],\n",
       "       [    53, 143000],\n",
       "       [    42, 149000],\n",
       "       [    38,  59000],\n",
       "       [    50,  88000],\n",
       "       [    56, 104000],\n",
       "       [    41,  72000],\n",
       "       [    51, 146000],\n",
       "       [    35,  50000],\n",
       "       [    57, 122000],\n",
       "       [    41,  52000],\n",
       "       [    35,  97000],\n",
       "       [    44,  39000],\n",
       "       [    37,  52000],\n",
       "       [    48, 134000],\n",
       "       [    37, 146000],\n",
       "       [    50,  44000],\n",
       "       [    52,  90000],\n",
       "       [    41,  72000],\n",
       "       [    40,  57000],\n",
       "       [    58,  95000],\n",
       "       [    45, 131000],\n",
       "       [    35,  77000],\n",
       "       [    36, 144000],\n",
       "       [    55, 125000],\n",
       "       [    35,  72000],\n",
       "       [    48,  90000],\n",
       "       [    42, 108000],\n",
       "       [    40,  75000],\n",
       "       [    37,  74000],\n",
       "       [    47, 144000],\n",
       "       [    40,  61000],\n",
       "       [    43, 133000],\n",
       "       [    59,  76000],\n",
       "       [    60,  42000],\n",
       "       [    39, 106000],\n",
       "       [    57,  26000],\n",
       "       [    57,  74000],\n",
       "       [    38,  71000],\n",
       "       [    49,  88000],\n",
       "       [    52,  38000],\n",
       "       [    50,  36000],\n",
       "       [    59,  88000],\n",
       "       [    35,  61000],\n",
       "       [    37,  70000],\n",
       "       [    52,  21000],\n",
       "       [    48, 141000],\n",
       "       [    37,  93000],\n",
       "       [    37,  62000],\n",
       "       [    48, 138000],\n",
       "       [    41,  79000],\n",
       "       [    37,  78000],\n",
       "       [    39, 134000],\n",
       "       [    49,  89000],\n",
       "       [    55,  39000],\n",
       "       [    37,  77000],\n",
       "       [    35,  57000],\n",
       "       [    36,  63000],\n",
       "       [    42,  73000],\n",
       "       [    43, 112000],\n",
       "       [    45,  79000],\n",
       "       [    46, 117000],\n",
       "       [    58,  38000],\n",
       "       [    48,  74000],\n",
       "       [    37, 137000],\n",
       "       [    37,  79000],\n",
       "       [    40,  60000],\n",
       "       [    42,  54000],\n",
       "       [    51, 134000],\n",
       "       [    47, 113000],\n",
       "       [    36, 125000],\n",
       "       [    38,  50000],\n",
       "       [    42,  70000],\n",
       "       [    39,  96000],\n",
       "       [    38,  50000],\n",
       "       [    49, 141000],\n",
       "       [    39,  79000],\n",
       "       [    39,  75000],\n",
       "       [    54, 104000],\n",
       "       [    35,  55000],\n",
       "       [    45,  32000],\n",
       "       [    36,  60000]], dtype=int64)"
      ]
     },
     "execution_count": 61,
     "metadata": {},
     "output_type": "execute_result"
    }
   ],
   "source": [
    "xx_train"
   ]
  },
  {
   "cell_type": "code",
   "execution_count": 62,
   "id": "4b1f65e6",
   "metadata": {},
   "outputs": [
    {
     "data": {
      "text/plain": [
       "(320, 2)"
      ]
     },
     "execution_count": 62,
     "metadata": {},
     "output_type": "execute_result"
    }
   ],
   "source": [
    "xx_train.shape"
   ]
  },
  {
   "cell_type": "code",
   "execution_count": 63,
   "id": "b3405b4e",
   "metadata": {},
   "outputs": [
    {
     "data": {
      "text/plain": [
       "(320,)"
      ]
     },
     "execution_count": 63,
     "metadata": {},
     "output_type": "execute_result"
    }
   ],
   "source": [
    "yy_train.shape"
   ]
  },
  {
   "cell_type": "code",
   "execution_count": 64,
   "id": "1190e8a9",
   "metadata": {},
   "outputs": [],
   "source": [
    "xx_test=x1[int(0.8*x1.shape[0]):,:]\n",
    "yy_test=y1[int(0.8*x1.shape[0]):]"
   ]
  },
  {
   "cell_type": "code",
   "execution_count": 65,
   "id": "6a429c2a",
   "metadata": {},
   "outputs": [],
   "source": [
    "scaler = StandardScaler()\n",
    "\n",
    "X_train_scaled = scaler.fit_transform(xx_train)\n",
    "\n",
    "X_test_scaled = scaler.transform(xx_test)"
   ]
  },
  {
   "cell_type": "code",
   "execution_count": null,
   "id": "84a30b39",
   "metadata": {},
   "outputs": [],
   "source": []
  },
  {
   "cell_type": "code",
   "execution_count": 66,
   "id": "c86d592b",
   "metadata": {},
   "outputs": [],
   "source": [
    "def prediction(x,w,b):\n",
    "    z=np.dot(x,w)+b\n",
    "    return 1/(1+np.exp(-z))\n"
   ]
  },
  {
   "cell_type": "code",
   "execution_count": 67,
   "id": "5db07a7c",
   "metadata": {},
   "outputs": [],
   "source": [
    "def cost_function(y_hat,y):\n",
    "    m=y_hat.shape[0]\n",
    "    return np.mean(-y*np.log(y_hat)-((1-y)*(np.log(1-y_hat))))"
   ]
  },
  {
   "cell_type": "code",
   "execution_count": 68,
   "id": "682d6ed8",
   "metadata": {},
   "outputs": [],
   "source": [
    "def gradient_descent(x,y,w,b):\n",
    "    lr=0.1\n",
    "    epochs=150\n",
    "    m=y.shape\n",
    "    cost=[]\n",
    "    it=[]\n",
    "    for i in range (epochs):\n",
    "        y_hat=prediction(x,w,b)\n",
    "        dw=np.dot(x.T,y_hat-y)/m\n",
    "        db=np.mean(y_hat-y)\n",
    "        w-=lr*dw\n",
    "        b-=lr*db\n",
    "        cost.append(cost_function(y_hat,y))\n",
    "        it.append(i)\n",
    "    return w,b,cost,it"
   ]
  },
  {
   "cell_type": "code",
   "execution_count": 69,
   "id": "87f55689",
   "metadata": {},
   "outputs": [],
   "source": [
    "n=X_train_scaled.shape[1]\n",
    "w_=np.random.randn(n)\n",
    "b_=0"
   ]
  },
  {
   "cell_type": "code",
   "execution_count": 70,
   "id": "5ee5b3e7",
   "metadata": {},
   "outputs": [],
   "source": [
    "y_hat=prediction(X_train_scaled,w,b)"
   ]
  },
  {
   "cell_type": "code",
   "execution_count": 71,
   "id": "ba704388",
   "metadata": {},
   "outputs": [
    {
     "data": {
      "text/plain": [
       "(320,)"
      ]
     },
     "execution_count": 71,
     "metadata": {},
     "output_type": "execute_result"
    }
   ],
   "source": [
    "yy_train.shape"
   ]
  },
  {
   "cell_type": "code",
   "execution_count": 72,
   "id": "752c88ee",
   "metadata": {},
   "outputs": [],
   "source": [
    "w,b,cost,it=gradient_descent(X_train_scaled,yy_train,w_,b_)"
   ]
  },
  {
   "cell_type": "code",
   "execution_count": 73,
   "id": "b51a0c2f",
   "metadata": {
    "scrolled": true
   },
   "outputs": [
    {
     "data": {
      "text/plain": [
       "[<matplotlib.lines.Line2D at 0x1f5cde18250>]"
      ]
     },
     "execution_count": 73,
     "metadata": {},
     "output_type": "execute_result"
    },
    {
     "data": {
      "image/png": "[encoded data removed]",
      "text/plain": [
       "<Figure size 640x480 with 1 Axes>"
      ]
     },
     "metadata": {},
     "output_type": "display_data"
    }
   ],
   "source": [
    "plt.plot(it,cost)"
   ]
  },
  {
   "cell_type": "code",
   "execution_count": 74,
   "id": "952bc78c",
   "metadata": {},
   "outputs": [
    {
     "data": {
      "text/plain": [
       "70.0"
      ]
     },
     "execution_count": 74,
     "metadata": {},
     "output_type": "execute_result"
    }
   ],
   "source": [
    "predicted=prediction(X_test_scaled,w_,b_)\n",
    "predicted=np.where(predicted>=0.5,1,0)\n",
    "np.mean(predicted==yy_test) * 100"
   ]
  },
  {
   "cell_type": "code",
   "execution_count": null,
   "id": "a885c074",
   "metadata": {},
   "outputs": [],
   "source": []
  },
  {
   "cell_type": "code",
   "execution_count": null,
   "id": "d906eac3",
   "metadata": {},
   "outputs": [],
   "source": []
  },
  {
   "cell_type": "code",
   "execution_count": null,
   "id": "474f4c28",
   "metadata": {},
   "outputs": [],
   "source": []
  },
  {
   "cell_type": "code",
   "execution_count": null,
   "id": "aa0c143e",
   "metadata": {},
   "outputs": [],
   "source": []
  }
 ],
 "metadata": {
  "kernelspec": {
   "display_name": "Python 3 (ipykernel)",
   "language": "python",
   "name": "python3"
  },
  "language_info": {
   "codemirror_mode": {
    "name": "ipython",
    "version": 3
   },
   "file_extension": ".py",
   "mimetype": "text/x-python",
   "name": "python",
   "nbconvert_exporter": "python",
   "pygments_lexer": "ipython3",
   "version": "3.11.5"
  }
 },
 "nbformat": 4,
 "nbformat_minor": 5
}
