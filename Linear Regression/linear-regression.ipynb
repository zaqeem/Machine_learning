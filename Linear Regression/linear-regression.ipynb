{
 "cells": [
  {
   "cell_type": "code",
   "execution_count": 1,
   "id": "8b23ae71",
   "metadata": {
    "_cell_guid": "b1076dfc-b9ad-4769-8c92-a6c4dae69d19",
    "_uuid": "8f2839f25d086af736a60e9eeb907d3b93b6e0e5",
    "execution": {
     "iopub.execute_input": "2024-09-01T13:09:43.400353Z",
     "iopub.status.busy": "2024-09-01T13:09:43.399165Z",
     "iopub.status.idle": "2024-09-01T13:09:44.207316Z",
     "shell.execute_reply": "2024-09-01T13:09:44.206299Z"
    },
    "papermill": {
     "duration": 0.82318,
     "end_time": "2024-09-01T13:09:44.210202",
     "exception": false,
     "start_time": "2024-09-01T13:09:43.387022",
     "status": "completed"
    },
    "tags": []
   },
   "outputs": [],
   "source": [
    "import pandas as pd \n",
    "import numpy as np\n"
   ]
  },
  {
   "cell_type": "code",
   "execution_count": 2,
   "id": "a66604d9",
   "metadata": {
    "execution": {
     "iopub.execute_input": "2024-09-01T13:09:44.231960Z",
     "iopub.status.busy": "2024-09-01T13:09:44.231138Z",
     "iopub.status.idle": "2024-09-01T13:09:44.282230Z",
     "shell.execute_reply": "2024-09-01T13:09:44.281111Z"
    },
    "papermill": {
     "duration": 0.064263,
     "end_time": "2024-09-01T13:09:44.284536",
     "exception": false,
     "start_time": "2024-09-01T13:09:44.220273",
     "status": "completed"
    },
    "tags": []
   },
   "outputs": [
    {
     "data": {
      "text/html": [
       "<div>\n",
       "<style scoped>\n",
       "    .dataframe tbody tr th:only-of-type {\n",
       "        vertical-align: middle;\n",
       "    }\n",
       "\n",
       "    .dataframe tbody tr th {\n",
       "        vertical-align: top;\n",
       "    }\n",
       "\n",
       "    .dataframe thead th {\n",
       "        text-align: right;\n",
       "    }\n",
       "</style>\n",
       "<table border=\"1\" class=\"dataframe\">\n",
       "  <thead>\n",
       "    <tr style=\"text-align: right;\">\n",
       "      <th></th>\n",
       "      <th>Price</th>\n",
       "      <th>Living Area</th>\n",
       "      <th>Bathrooms</th>\n",
       "      <th>Bedrooms</th>\n",
       "      <th>Lot Size</th>\n",
       "      <th>Age</th>\n",
       "      <th>Fireplace</th>\n",
       "    </tr>\n",
       "  </thead>\n",
       "  <tbody>\n",
       "    <tr>\n",
       "      <th>0</th>\n",
       "      <td>142212</td>\n",
       "      <td>1982</td>\n",
       "      <td>1.0</td>\n",
       "      <td>3</td>\n",
       "      <td>2.00</td>\n",
       "      <td>133</td>\n",
       "      <td>0</td>\n",
       "    </tr>\n",
       "    <tr>\n",
       "      <th>1</th>\n",
       "      <td>134865</td>\n",
       "      <td>1676</td>\n",
       "      <td>1.5</td>\n",
       "      <td>3</td>\n",
       "      <td>0.38</td>\n",
       "      <td>14</td>\n",
       "      <td>1</td>\n",
       "    </tr>\n",
       "    <tr>\n",
       "      <th>2</th>\n",
       "      <td>118007</td>\n",
       "      <td>1694</td>\n",
       "      <td>2.0</td>\n",
       "      <td>3</td>\n",
       "      <td>0.96</td>\n",
       "      <td>15</td>\n",
       "      <td>1</td>\n",
       "    </tr>\n",
       "    <tr>\n",
       "      <th>3</th>\n",
       "      <td>138297</td>\n",
       "      <td>1800</td>\n",
       "      <td>1.0</td>\n",
       "      <td>2</td>\n",
       "      <td>0.48</td>\n",
       "      <td>49</td>\n",
       "      <td>1</td>\n",
       "    </tr>\n",
       "    <tr>\n",
       "      <th>4</th>\n",
       "      <td>129470</td>\n",
       "      <td>2088</td>\n",
       "      <td>1.0</td>\n",
       "      <td>3</td>\n",
       "      <td>1.84</td>\n",
       "      <td>29</td>\n",
       "      <td>1</td>\n",
       "    </tr>\n",
       "    <tr>\n",
       "      <th>...</th>\n",
       "      <td>...</td>\n",
       "      <td>...</td>\n",
       "      <td>...</td>\n",
       "      <td>...</td>\n",
       "      <td>...</td>\n",
       "      <td>...</td>\n",
       "      <td>...</td>\n",
       "    </tr>\n",
       "    <tr>\n",
       "      <th>1042</th>\n",
       "      <td>107695</td>\n",
       "      <td>1802</td>\n",
       "      <td>2.0</td>\n",
       "      <td>4</td>\n",
       "      <td>0.97</td>\n",
       "      <td>56</td>\n",
       "      <td>1</td>\n",
       "    </tr>\n",
       "    <tr>\n",
       "      <th>1043</th>\n",
       "      <td>236737</td>\n",
       "      <td>3239</td>\n",
       "      <td>3.5</td>\n",
       "      <td>4</td>\n",
       "      <td>2.50</td>\n",
       "      <td>1</td>\n",
       "      <td>1</td>\n",
       "    </tr>\n",
       "    <tr>\n",
       "      <th>1044</th>\n",
       "      <td>154829</td>\n",
       "      <td>1440</td>\n",
       "      <td>2.0</td>\n",
       "      <td>2</td>\n",
       "      <td>0.61</td>\n",
       "      <td>66</td>\n",
       "      <td>1</td>\n",
       "    </tr>\n",
       "    <tr>\n",
       "      <th>1045</th>\n",
       "      <td>179492</td>\n",
       "      <td>2030</td>\n",
       "      <td>2.5</td>\n",
       "      <td>3</td>\n",
       "      <td>1.00</td>\n",
       "      <td>3</td>\n",
       "      <td>1</td>\n",
       "    </tr>\n",
       "    <tr>\n",
       "      <th>1046</th>\n",
       "      <td>189108</td>\n",
       "      <td>2097</td>\n",
       "      <td>2.5</td>\n",
       "      <td>3</td>\n",
       "      <td>1.93</td>\n",
       "      <td>10</td>\n",
       "      <td>1</td>\n",
       "    </tr>\n",
       "  </tbody>\n",
       "</table>\n",
       "<p>1047 rows × 7 columns</p>\n",
       "</div>"
      ],
      "text/plain": [
       "       Price  Living Area  Bathrooms  Bedrooms  Lot Size  Age  Fireplace\n",
       "0     142212         1982        1.0         3      2.00  133          0\n",
       "1     134865         1676        1.5         3      0.38   14          1\n",
       "2     118007         1694        2.0         3      0.96   15          1\n",
       "3     138297         1800        1.0         2      0.48   49          1\n",
       "4     129470         2088        1.0         3      1.84   29          1\n",
       "...      ...          ...        ...       ...       ...  ...        ...\n",
       "1042  107695         1802        2.0         4      0.97   56          1\n",
       "1043  236737         3239        3.5         4      2.50    1          1\n",
       "1044  154829         1440        2.0         2      0.61   66          1\n",
       "1045  179492         2030        2.5         3      1.00    3          1\n",
       "1046  189108         2097        2.5         3      1.93   10          1\n",
       "\n",
       "[1047 rows x 7 columns]"
      ]
     },
     "execution_count": 2,
     "metadata": {},
     "output_type": "execute_result"
    }
   ],
   "source": [
    "data = pd.read_csv('/kaggle/input/houseprices-dataset/houseprices.csv')\n",
    "data"
   ]
  },
  {
   "cell_type": "code",
   "execution_count": 3,
   "id": "8974b812",
   "metadata": {
    "execution": {
     "iopub.execute_input": "2024-09-01T13:09:44.306103Z",
     "iopub.status.busy": "2024-09-01T13:09:44.305702Z",
     "iopub.status.idle": "2024-09-01T13:09:44.326600Z",
     "shell.execute_reply": "2024-09-01T13:09:44.325382Z"
    },
    "papermill": {
     "duration": 0.034493,
     "end_time": "2024-09-01T13:09:44.329230",
     "exception": false,
     "start_time": "2024-09-01T13:09:44.294737",
     "status": "completed"
    },
    "tags": []
   },
   "outputs": [
    {
     "name": "stdout",
     "output_type": "stream",
     "text": [
      "<class 'pandas.core.frame.DataFrame'>\n",
      "RangeIndex: 1047 entries, 0 to 1046\n",
      "Data columns (total 7 columns):\n",
      " #   Column       Non-Null Count  Dtype  \n",
      "---  ------       --------------  -----  \n",
      " 0   Price        1047 non-null   int64  \n",
      " 1   Living Area  1047 non-null   int64  \n",
      " 2   Bathrooms    1047 non-null   float64\n",
      " 3   Bedrooms     1047 non-null   int64  \n",
      " 4   Lot Size     1047 non-null   float64\n",
      " 5   Age          1047 non-null   int64  \n",
      " 6   Fireplace    1047 non-null   int64  \n",
      "dtypes: float64(2), int64(5)\n",
      "memory usage: 57.4 KB\n"
     ]
    }
   ],
   "source": [
    "data.info()"
   ]
  },
  {
   "cell_type": "code",
   "execution_count": 4,
   "id": "fbb9280f",
   "metadata": {
    "execution": {
     "iopub.execute_input": "2024-09-01T13:09:44.351561Z",
     "iopub.status.busy": "2024-09-01T13:09:44.350783Z",
     "iopub.status.idle": "2024-09-01T13:09:44.356844Z",
     "shell.execute_reply": "2024-09-01T13:09:44.355803Z"
    },
    "papermill": {
     "duration": 0.019876,
     "end_time": "2024-09-01T13:09:44.359232",
     "exception": false,
     "start_time": "2024-09-01T13:09:44.339356",
     "status": "completed"
    },
    "tags": []
   },
   "outputs": [],
   "source": [
    "data = data.drop(['Age','Bathrooms','Bedrooms','Lot Size','Fireplace'],axis =1)"
   ]
  },
  {
   "cell_type": "code",
   "execution_count": 5,
   "id": "ca4c915c",
   "metadata": {
    "execution": {
     "iopub.execute_input": "2024-09-01T13:09:44.381757Z",
     "iopub.status.busy": "2024-09-01T13:09:44.380771Z",
     "iopub.status.idle": "2024-09-01T13:09:44.393061Z",
     "shell.execute_reply": "2024-09-01T13:09:44.391879Z"
    },
    "papermill": {
     "duration": 0.027044,
     "end_time": "2024-09-01T13:09:44.396414",
     "exception": false,
     "start_time": "2024-09-01T13:09:44.369370",
     "status": "completed"
    },
    "tags": []
   },
   "outputs": [
    {
     "name": "stdout",
     "output_type": "stream",
     "text": [
      "Index(['Price', 'Living Area'], dtype='object')\n"
     ]
    },
    {
     "data": {
      "text/html": [
       "<div>\n",
       "<style scoped>\n",
       "    .dataframe tbody tr th:only-of-type {\n",
       "        vertical-align: middle;\n",
       "    }\n",
       "\n",
       "    .dataframe tbody tr th {\n",
       "        vertical-align: top;\n",
       "    }\n",
       "\n",
       "    .dataframe thead th {\n",
       "        text-align: right;\n",
       "    }\n",
       "</style>\n",
       "<table border=\"1\" class=\"dataframe\">\n",
       "  <thead>\n",
       "    <tr style=\"text-align: right;\">\n",
       "      <th></th>\n",
       "      <th>Price</th>\n",
       "      <th>Living Area</th>\n",
       "    </tr>\n",
       "  </thead>\n",
       "  <tbody>\n",
       "    <tr>\n",
       "      <th>0</th>\n",
       "      <td>142212</td>\n",
       "      <td>1982</td>\n",
       "    </tr>\n",
       "    <tr>\n",
       "      <th>1</th>\n",
       "      <td>134865</td>\n",
       "      <td>1676</td>\n",
       "    </tr>\n",
       "    <tr>\n",
       "      <th>2</th>\n",
       "      <td>118007</td>\n",
       "      <td>1694</td>\n",
       "    </tr>\n",
       "    <tr>\n",
       "      <th>3</th>\n",
       "      <td>138297</td>\n",
       "      <td>1800</td>\n",
       "    </tr>\n",
       "    <tr>\n",
       "      <th>4</th>\n",
       "      <td>129470</td>\n",
       "      <td>2088</td>\n",
       "    </tr>\n",
       "    <tr>\n",
       "      <th>...</th>\n",
       "      <td>...</td>\n",
       "      <td>...</td>\n",
       "    </tr>\n",
       "    <tr>\n",
       "      <th>1042</th>\n",
       "      <td>107695</td>\n",
       "      <td>1802</td>\n",
       "    </tr>\n",
       "    <tr>\n",
       "      <th>1043</th>\n",
       "      <td>236737</td>\n",
       "      <td>3239</td>\n",
       "    </tr>\n",
       "    <tr>\n",
       "      <th>1044</th>\n",
       "      <td>154829</td>\n",
       "      <td>1440</td>\n",
       "    </tr>\n",
       "    <tr>\n",
       "      <th>1045</th>\n",
       "      <td>179492</td>\n",
       "      <td>2030</td>\n",
       "    </tr>\n",
       "    <tr>\n",
       "      <th>1046</th>\n",
       "      <td>189108</td>\n",
       "      <td>2097</td>\n",
       "    </tr>\n",
       "  </tbody>\n",
       "</table>\n",
       "<p>1047 rows × 2 columns</p>\n",
       "</div>"
      ],
      "text/plain": [
       "       Price  Living Area\n",
       "0     142212         1982\n",
       "1     134865         1676\n",
       "2     118007         1694\n",
       "3     138297         1800\n",
       "4     129470         2088\n",
       "...      ...          ...\n",
       "1042  107695         1802\n",
       "1043  236737         3239\n",
       "1044  154829         1440\n",
       "1045  179492         2030\n",
       "1046  189108         2097\n",
       "\n",
       "[1047 rows x 2 columns]"
      ]
     },
     "execution_count": 5,
     "metadata": {},
     "output_type": "execute_result"
    }
   ],
   "source": [
    "print(data.columns)\n",
    "data"
   ]
  },
  {
   "cell_type": "code",
   "execution_count": 6,
   "id": "008290a9",
   "metadata": {
    "execution": {
     "iopub.execute_input": "2024-09-01T13:09:44.420434Z",
     "iopub.status.busy": "2024-09-01T13:09:44.419455Z",
     "iopub.status.idle": "2024-09-01T13:09:44.425050Z",
     "shell.execute_reply": "2024-09-01T13:09:44.424049Z"
    },
    "papermill": {
     "duration": 0.020225,
     "end_time": "2024-09-01T13:09:44.427510",
     "exception": false,
     "start_time": "2024-09-01T13:09:44.407285",
     "status": "completed"
    },
    "tags": []
   },
   "outputs": [],
   "source": [
    "x=data['Living Area'].values\n",
    "\n",
    "# from sklearn.preprocessing import StandardScaler\n",
    "# sc=StandardScaler()\n",
    "# x_train=sc.fit_transform(x_train)\n",
    "x = x / max(x)"
   ]
  },
  {
   "cell_type": "code",
   "execution_count": 7,
   "id": "8e294927",
   "metadata": {
    "execution": {
     "iopub.execute_input": "2024-09-01T13:09:44.451015Z",
     "iopub.status.busy": "2024-09-01T13:09:44.450064Z",
     "iopub.status.idle": "2024-09-01T13:09:44.456920Z",
     "shell.execute_reply": "2024-09-01T13:09:44.455854Z"
    },
    "papermill": {
     "duration": 0.021778,
     "end_time": "2024-09-01T13:09:44.459913",
     "exception": false,
     "start_time": "2024-09-01T13:09:44.438135",
     "status": "completed"
    },
    "tags": []
   },
   "outputs": [
    {
     "data": {
      "text/plain": [
       "(1047,)"
      ]
     },
     "execution_count": 7,
     "metadata": {},
     "output_type": "execute_result"
    }
   ],
   "source": [
    "x.shape"
   ]
  },
  {
   "cell_type": "code",
   "execution_count": 8,
   "id": "3d741496",
   "metadata": {
    "execution": {
     "iopub.execute_input": "2024-09-01T13:09:44.482768Z",
     "iopub.status.busy": "2024-09-01T13:09:44.482342Z",
     "iopub.status.idle": "2024-09-01T13:09:44.489892Z",
     "shell.execute_reply": "2024-09-01T13:09:44.488856Z"
    },
    "papermill": {
     "duration": 0.022056,
     "end_time": "2024-09-01T13:09:44.492483",
     "exception": false,
     "start_time": "2024-09-01T13:09:44.470427",
     "status": "completed"
    },
    "tags": []
   },
   "outputs": [
    {
     "data": {
      "text/plain": [
       "array([142212, 134865, 118007, ..., 154829, 179492, 189108])"
      ]
     },
     "execution_count": 8,
     "metadata": {},
     "output_type": "execute_result"
    }
   ],
   "source": [
    "y=data['Price'].values\n",
    "y"
   ]
  },
  {
   "cell_type": "code",
   "execution_count": 9,
   "id": "74cb1b25",
   "metadata": {
    "execution": {
     "iopub.execute_input": "2024-09-01T13:09:44.516671Z",
     "iopub.status.busy": "2024-09-01T13:09:44.515454Z",
     "iopub.status.idle": "2024-09-01T13:09:45.787197Z",
     "shell.execute_reply": "2024-09-01T13:09:45.786029Z"
    },
    "papermill": {
     "duration": 1.286712,
     "end_time": "2024-09-01T13:09:45.790038",
     "exception": false,
     "start_time": "2024-09-01T13:09:44.503326",
     "status": "completed"
    },
    "tags": []
   },
   "outputs": [],
   "source": [
    "from sklearn.model_selection import train_test_split\n",
    "x_train, x_test, y_train, y_test = train_test_split(x,y,test_size = 0.2, random_state = 1234)"
   ]
  },
  {
   "cell_type": "code",
   "execution_count": 10,
   "id": "6231cd91",
   "metadata": {
    "execution": {
     "iopub.execute_input": "2024-09-01T13:09:45.814343Z",
     "iopub.status.busy": "2024-09-01T13:09:45.813011Z",
     "iopub.status.idle": "2024-09-01T13:09:45.818729Z",
     "shell.execute_reply": "2024-09-01T13:09:45.817637Z"
    },
    "papermill": {
     "duration": 0.02012,
     "end_time": "2024-09-01T13:09:45.821228",
     "exception": false,
     "start_time": "2024-09-01T13:09:45.801108",
     "status": "completed"
    },
    "tags": []
   },
   "outputs": [],
   "source": [
    "import matplotlib.pyplot as plt"
   ]
  },
  {
   "cell_type": "code",
   "execution_count": 11,
   "id": "a0ccea6d",
   "metadata": {
    "execution": {
     "iopub.execute_input": "2024-09-01T13:09:45.844675Z",
     "iopub.status.busy": "2024-09-01T13:09:45.843667Z",
     "iopub.status.idle": "2024-09-01T13:09:46.251192Z",
     "shell.execute_reply": "2024-09-01T13:09:46.249999Z"
    },
    "papermill": {
     "duration": 0.422024,
     "end_time": "2024-09-01T13:09:46.253841",
     "exception": false,
     "start_time": "2024-09-01T13:09:45.831817",
     "status": "completed"
    },
    "tags": []
   },
   "outputs": [
    {
     "data": {
      "text/plain": [
       "<matplotlib.collections.PathCollection at 0x7fa139672200>"
      ]
     },
     "execution_count": 11,
     "metadata": {},
     "output_type": "execute_result"
    },
    {
     "data": {
      "image/png": "[encoded data removed]",
      "text/plain": [
       "<Figure size 640x480 with 1 Axes>"
      ]
     },
     "metadata": {},
     "output_type": "display_data"
    }
   ],
   "source": [
    "plt.scatter(x_train,y_train)"
   ]
  },
  {
   "cell_type": "code",
   "execution_count": null,
   "id": "20c9d268",
   "metadata": {
    "papermill": {
     "duration": 0.011256,
     "end_time": "2024-09-01T13:09:46.276922",
     "exception": false,
     "start_time": "2024-09-01T13:09:46.265666",
     "status": "completed"
    },
    "tags": []
   },
   "outputs": [],
   "source": []
  },
  {
   "cell_type": "code",
   "execution_count": 12,
   "id": "2258fca1",
   "metadata": {
    "execution": {
     "iopub.execute_input": "2024-09-01T13:09:46.301855Z",
     "iopub.status.busy": "2024-09-01T13:09:46.301434Z",
     "iopub.status.idle": "2024-09-01T13:09:46.311093Z",
     "shell.execute_reply": "2024-09-01T13:09:46.309872Z"
    },
    "papermill": {
     "duration": 0.02475,
     "end_time": "2024-09-01T13:09:46.313369",
     "exception": false,
     "start_time": "2024-09-01T13:09:46.288619",
     "status": "completed"
    },
    "tags": []
   },
   "outputs": [],
   "source": [
    "def pred(x,w,b):\n",
    "    return w*x+b\n",
    "def cost_ftn(y_hat,y):\n",
    "    return 1/(2*len(y))*np.sum((y_hat-y)**2)\n",
    "def gradient(x,y,w,b):\n",
    "    costs=[]\n",
    "    w_and_b=[]\n",
    "    lr=0.1\n",
    "    epochs=1000\n",
    "    m=x.shape[0]\n",
    "    predicted=[]\n",
    "    for i in range(epochs):\n",
    "        y_hat=pred(x,w,b)\n",
    "        dw=np.mean((y_hat-y)*x)\n",
    "        db=np.mean(y_hat-y)\n",
    "        w-=lr*dw\n",
    "        b-=lr*db\n",
    "        cost=cost_ftn(y_hat,y)\n",
    "        costs.append(cost)\n",
    "        predicted.append(y_hat)\n",
    "        w_and_b.append([w,b])\n",
    "    return costs,predicted,w_and_b"
   ]
  },
  {
   "cell_type": "code",
   "execution_count": null,
   "id": "dc57a2d4",
   "metadata": {
    "papermill": {
     "duration": 0.011014,
     "end_time": "2024-09-01T13:09:46.335807",
     "exception": false,
     "start_time": "2024-09-01T13:09:46.324793",
     "status": "completed"
    },
    "tags": []
   },
   "outputs": [],
   "source": []
  },
  {
   "cell_type": "code",
   "execution_count": 13,
   "id": "d6baca6b",
   "metadata": {
    "execution": {
     "iopub.execute_input": "2024-09-01T13:09:46.360445Z",
     "iopub.status.busy": "2024-09-01T13:09:46.360020Z",
     "iopub.status.idle": "2024-09-01T13:09:46.365322Z",
     "shell.execute_reply": "2024-09-01T13:09:46.364224Z"
    },
    "papermill": {
     "duration": 0.020377,
     "end_time": "2024-09-01T13:09:46.367629",
     "exception": false,
     "start_time": "2024-09-01T13:09:46.347252",
     "status": "completed"
    },
    "tags": []
   },
   "outputs": [],
   "source": [
    "w=np.random.randn()\n",
    "b=np.random.randn()\n"
   ]
  },
  {
   "cell_type": "code",
   "execution_count": 14,
   "id": "11087aaa",
   "metadata": {
    "execution": {
     "iopub.execute_input": "2024-09-01T13:09:46.393013Z",
     "iopub.status.busy": "2024-09-01T13:09:46.392140Z",
     "iopub.status.idle": "2024-09-01T13:09:46.409379Z",
     "shell.execute_reply": "2024-09-01T13:09:46.408292Z"
    },
    "papermill": {
     "duration": 0.032635,
     "end_time": "2024-09-01T13:09:46.411815",
     "exception": false,
     "start_time": "2024-09-01T13:09:46.379180",
     "status": "completed"
    },
    "tags": []
   },
   "outputs": [
    {
     "data": {
      "text/plain": [
       "array([-0.51403077, -0.47852042, -0.40477919, -0.46191075, -0.45360591,\n",
       "       -0.48059663, -0.49971208, -0.42539809, -0.44888074, -0.46584838,\n",
       "       -0.39962446, -0.39933808, -0.45353431, -0.45460822, -0.47350888,\n",
       "       -0.40306094, -0.4220332 , -0.51517626, -0.51245571, -0.44028953,\n",
       "       -0.40749974, -0.44157821, -0.4646313 , -0.45632646, -0.45188767,\n",
       "       -0.53035407, -0.46885531, -0.4231071 , -0.44258052, -0.46033569,\n",
       "       -0.43943041, -0.42554128, -0.4939846 , -0.50615549, -0.42604244,\n",
       "       -0.44830799, -0.42224798, -0.49455735, -0.45346272, -0.48446268,\n",
       "       -0.46864053, -0.39962446, -0.47093152, -0.39618797, -0.48038185,\n",
       "       -0.48582295, -0.42138886, -0.5005712 , -0.45890382, -0.45195926,\n",
       "       -0.53207231, -0.45861745, -0.51990143, -0.4308392 , -0.5322155 ,\n",
       "       -0.39962446, -0.47264976, -0.42697315, -0.43284381, -0.43964519,\n",
       "       -0.50415087, -0.39747666, -0.47673059, -0.4841763 , -0.45331953,\n",
       "       -0.44687612, -0.45446503, -0.44429876, -0.43957359, -0.48704004,\n",
       "       -0.46606317, -0.44895233, -0.43227106, -0.40649743, -0.42539809,\n",
       "       -0.44845118, -0.42682996, -0.39618797, -0.47179064, -0.48381834,\n",
       "       -0.46856894, -0.45288997, -0.52183445, -0.44071909, -0.48038185,\n",
       "       -0.53994759, -0.5354372 , -0.55491062, -0.49269592, -0.47866361,\n",
       "       -0.43484843, -0.48947422, -0.54610462, -0.44687612, -0.53278825,\n",
       "       -0.44243733, -0.48224328, -0.49240955, -0.6194163 , -0.44028953,\n",
       "       -0.44000316, -0.45288997, -0.43048123, -0.54238177, -0.40964754,\n",
       "       -0.48668207, -0.57194985, -0.39933808, -0.43169832, -0.42554128,\n",
       "       -0.49956889, -0.45117173, -0.43055282, -0.4853218 , -0.49083449,\n",
       "       -0.49870977, -0.44114865, -0.50586911, -0.44028953, -0.48381834,\n",
       "       -0.45990613, -0.44429876, -0.50228944, -0.41723644, -0.40993391,\n",
       "       -0.40649743, -0.50794532, -0.44630338, -0.55705842, -0.42138886,\n",
       "       -0.42367985, -0.41909787, -0.48825713, -0.49785065, -0.40048358,\n",
       "       -0.46949965, -0.42110249, -0.42367985, -0.48410471, -0.47945114,\n",
       "       -0.46849734, -0.42998007, -0.45553893, -0.53729863, -0.41480227,\n",
       "       -0.39933808, -0.44028953, -0.54918314, -0.48224328, -0.4700724 ,\n",
       "       -0.43993156, -0.46577679, -0.61934471, -0.57459881, -0.46964284,\n",
       "       -0.42153205, -0.49971208, -0.4580447 , -0.45346272, -0.48066823,\n",
       "       -0.40993391, -0.42740271, -0.46541882, -0.44021794, -0.4689269 ,\n",
       "       -0.47408163, -0.43398931, -0.4460886 , -0.44544426, -0.45410706,\n",
       "       -0.45604008, -0.41251128, -0.42704474, -0.44816481, -0.53586676,\n",
       "       -0.58061266, -0.45346272, -0.49670515, -0.44028953, -0.45575371,\n",
       "       -0.45618327, -0.42926414, -0.47179064, -0.417666  , -0.49971208,\n",
       "       -0.44852277, -0.47558509, -0.51961505, -0.44487151, -0.41809556,\n",
       "       -0.49971208, -0.49971208, -0.42339348, -0.5660076 , -0.48224328,\n",
       "       -0.44558744, -0.50100076, -0.45374909, -0.44143502, -0.56414617,\n",
       "       -0.43656667, -0.44687612, -0.46212553, -0.40728496, -0.53787138,\n",
       "       -0.50701461, -0.559421  , -0.42682996, -0.44472832, -0.44179299,\n",
       "       -0.489689  , -0.42912095, -0.4929823 , -0.44272371, -0.4918368 ,\n",
       "       -0.44515788, -0.47107471, -0.54624781, -0.46276987, -0.46935646,\n",
       "       -0.43670986, -0.44258052, -0.40592468, -0.42926414, -0.52076055,\n",
       "       -0.40306094, -0.44429876, -0.42224798, -0.47909317, -0.4296937 ,\n",
       "       -0.53107   , -0.45876063, -0.4754419 , -0.47350888, -0.42568447,\n",
       "       -0.40821567, -0.4013427 , -0.45410706, -0.49656197, -0.48782757,\n",
       "       -0.43055282, -0.45360591, -0.43499161, -0.51417395, -0.45861745,\n",
       "       -0.47494075, -0.43957359, -0.43398931, -0.43098238, -0.55111616,\n",
       "       -0.48517861, -0.41909787, -0.45031261, -0.45002624, -0.46549042,\n",
       "       -0.52061736, -0.41308402, -0.45976294, -0.42511172, -0.48489224,\n",
       "       -0.47651581, -0.50042801, -0.40048358, -0.4656336 , -0.46398696,\n",
       "       -0.52340951, -0.54052034, -0.55125935, -0.55806073, -0.4417214 ,\n",
       "       -0.46692229, -0.47264976, -0.44258052, -0.48582295, -0.48804235,\n",
       "       -0.48367515, -0.44859437, -0.52340951, -0.50529637, -0.41165216,\n",
       "       -0.57495678, -0.52076055, -0.45052739, -0.54452957, -0.54882517,\n",
       "       -0.51331483, -0.50092917, -0.42496853, -0.48167053, -0.53164275,\n",
       "       -0.44258052, -0.41723644, -0.43284381, -0.39446973, -0.39103325,\n",
       "       -0.4580447 , -0.53056885, -0.49319708, -0.43885766, -0.39962446,\n",
       "       -0.45747195, -0.51073747, -0.44157821, -0.5441716 , -0.44923871,\n",
       "       -0.48925944, -0.55312078, -0.43857129, -0.46262668, -0.49856658,\n",
       "       -0.46720866, -0.43198469, -0.46835415, -0.46978602, -0.52820627,\n",
       "       -0.54553188, -0.47207701, -0.46577679, -0.45088536, -0.45604008,\n",
       "       -0.4460886 , -0.49627559, -0.43241425, -0.57452722, -0.60781816,\n",
       "       -0.5277767 , -0.47751811, -0.4417214 , -0.49570285, -0.56700991,\n",
       "       -0.49011856, -0.53379055, -0.4776613 , -0.53107   , -0.49584603,\n",
       "       -0.49856658, -0.51331483, -0.45847426, -0.40878842, -0.45403547,\n",
       "       -0.4460886 , -0.42403782, -0.44429876, -0.39862215, -0.4526036 ,\n",
       "       -0.49684834, -0.40306094, -0.48031026, -0.47307932, -0.42740271,\n",
       "       -0.44028953, -0.5017167 , -0.47107471, -0.44021794, -0.446017  ,\n",
       "       -0.42160364, -0.52247879, -0.42725952, -0.42840502, -0.42525491,\n",
       "       -0.47164745, -0.43971678, -0.46362899, -0.4907629 , -0.51882753,\n",
       "       -0.61669575, -0.4591186 , -0.446017  , -0.47365207, -0.4319131 ,\n",
       "       -0.43277222, -0.44301008, -0.54424319, -0.41594776, -0.52183445,\n",
       "       -0.46835415, -0.44687612, -0.4711463 , -0.41623414, -0.45346272,\n",
       "       -0.42367985, -0.60065882, -0.46949965, -0.45460822, -0.50121554,\n",
       "       -0.50228944, -0.43413249, -0.59185283, -0.45117173, -0.4209593 ,\n",
       "       -0.4634858 , -0.44028953, -0.42539809, -0.42367985, -0.40306094,\n",
       "       -0.45661283, -0.417666  , -0.40048358, -0.49205158, -0.44458513,\n",
       "       -0.4362087 , -0.42138886, -0.47694537, -0.483174  , -0.42367985,\n",
       "       -0.49899614, -0.40306094, -0.40993391, -0.40556671, -0.48983219,\n",
       "       -0.49197999, -0.45740036, -0.51675132, -0.56285749, -0.41358518,\n",
       "       -0.50572593, -0.51625016, -0.49691994, -0.57116233, -0.58061266,\n",
       "       -0.55054342, -0.51131022, -0.42303551, -0.53135638, -0.39719028,\n",
       "       -0.46176756, -0.44028953, -0.51789681, -0.42024337, -0.48610933,\n",
       "       -0.51882753, -0.51789681, -0.47622943, -0.47937954, -0.52863583,\n",
       "       -0.44229415, -0.47186223, -0.45632646, -0.42668678, -0.4166637 ,\n",
       "       -0.48439108, -0.45095695, -0.47608625, -0.43993156, -0.52290835,\n",
       "       -0.40284616, -0.40048358, -0.46778141, -0.41909787, -0.41609095,\n",
       "       -0.57560112, -0.58519464, -0.44859437, -0.53207231, -0.44229415,\n",
       "       -0.47637262, -0.43313019, -0.44028953, -0.47093152, -0.52849264,\n",
       "       -0.55455265, -0.42998007, -0.48167053, -0.44028953, -0.46033569,\n",
       "       -0.49971208, -0.4242526 , -0.44258052, -0.45561052, -0.45346272,\n",
       "       -0.39962446, -0.4634858 , -0.417666  , -0.4591902 , -0.42933573,\n",
       "       -0.54624781, -0.56951568, -0.52054577, -0.48023866, -0.44945349,\n",
       "       -0.39962446, -0.41652051, -0.41909787, -0.39933808, -0.48610933,\n",
       "       -0.42897777, -0.44229415, -0.45890382, -0.55777435, -0.41909787,\n",
       "       -0.41795238, -0.38244203, -0.42217639, -0.42668678, -0.52441181,\n",
       "       -0.44258052, -0.46319943, -0.44429876, -0.46427333, -0.5299961 ,\n",
       "       -0.46864053, -0.42568447, -0.43542118, -0.4526036 , -0.42883458,\n",
       "       -0.42339348, -0.47608625, -0.44830799, -0.41537501, -0.45410706,\n",
       "       -0.42131727, -0.41809556, -0.40492237, -0.42525491, -0.46742344,\n",
       "       -0.46212553, -0.44028953, -0.42926414, -0.4601925 , -0.46577679,\n",
       "       -0.51625016, -0.40707018, -0.4754419 , -0.41251128, -0.48539339,\n",
       "       -0.49147883, -0.46319943, -0.47093152, -0.49484373, -0.49999845,\n",
       "       -0.49742109, -0.50651346, -0.43943041, -0.52076055, -0.46033569,\n",
       "       -0.43370293, -0.42325029, -0.4417214 , -0.40821567, -0.5703032 ,\n",
       "       -0.43055282, -0.55670045, -0.4667791 , -0.57939557, -0.5168945 ,\n",
       "       -0.52441181, -0.39253671, -0.47422482, -0.41301243, -0.45288997,\n",
       "       -0.48603773, -0.58319002, -0.45790151, -0.574742  , -0.49283911,\n",
       "       -0.51524785, -0.4646313 , -0.50014164, -0.45747195, -0.51832637,\n",
       "       -0.43313019, -0.41909787, -0.42217639, -0.47923636, -0.50107235,\n",
       "       -0.41050666, -0.46806778, -0.55032864, -0.41580457, -0.52340951,\n",
       "       -0.41379996, -0.42138886, -0.39962446, -0.4515297 , -0.39962446,\n",
       "       -0.43613711, -0.42196161, -0.47966592, -0.43857129, -0.5005712 ,\n",
       "       -0.57603068, -0.39160599, -0.44973986, -0.44730569, -0.43348815,\n",
       "       -0.46262668, -0.41623414, -0.42797546, -0.39318105, -0.51875593,\n",
       "       -0.45346272, -0.43534958, -0.44086228, -0.48374674, -0.43277222,\n",
       "       -0.4308392 , -0.41279765, -0.44028953, -0.46291305, -0.524555  ,\n",
       "       -0.48840032, -0.48210009, -0.50143032, -0.50257582, -0.44028953,\n",
       "       -0.48238647, -0.44028953, -0.44028953, -0.43134035, -0.48603773,\n",
       "       -0.43277222, -0.43857129, -0.44028953, -0.43570755, -0.4013427 ,\n",
       "       -0.47708855, -0.5125989 , -0.47107471, -0.44837959, -0.43957359,\n",
       "       -0.44372601, -0.42024337, -0.46062206, -0.48152735, -0.44830799,\n",
       "       -0.44229415, -0.49785065, -0.4646313 , -0.39962446, -0.40993391,\n",
       "       -0.40506556, -0.45460822, -0.41294084, -0.48152735, -0.42274914,\n",
       "       -0.39962446, -0.43456205, -0.39747666, -0.47379526, -0.51116703,\n",
       "       -0.44028953, -0.45360591, -0.46262668, -0.42325029, -0.41909787,\n",
       "       -0.46935646, -0.45518096, -0.44888074, -0.49756428, -0.54438638,\n",
       "       -0.45138651, -0.40971913, -0.51331483, -0.43255744, -0.5419522 ,\n",
       "       -0.56343023, -0.46620635, -0.49527329, -0.47809086, -0.40506556,\n",
       "       -0.38981616, -0.40420644, -0.39962446, -0.50472362, -0.43484843,\n",
       "       -0.47673059, -0.57373969, -0.46004932, -0.446017  , -0.5540515 ,\n",
       "       -0.51331483, -0.42840502, -0.50858966, -0.45532415, -0.4275459 ,\n",
       "       -0.58791519, -0.45374909, -0.48353196, -0.44816481, -0.42940733,\n",
       "       -0.54331248, -0.39955287, -0.49971208, -0.51331483, -0.55018545,\n",
       "       -0.55863347, -0.42325029, -0.44429876, -0.51875593, -0.44272371,\n",
       "       -0.45031261, -0.43348815, -0.45904701, -0.46577679, -0.44515788,\n",
       "       -0.50243263, -0.43456205, -0.41029188, -0.54918314, -0.49799384,\n",
       "       -0.43742579, -0.44780684, -0.49971208, -0.39246512, -0.45374909,\n",
       "       -0.461338  , -0.43227106, -0.43857129, -0.44229415, -0.44215096,\n",
       "       -0.51317164, -0.42453897, -0.43398931, -0.43907244, -0.60108838,\n",
       "       -0.39962446, -0.42983689, -0.57373969, -0.38752517, -0.46692229,\n",
       "       -0.49541647, -0.40878842, -0.51131022, -0.4275459 , -0.46821097,\n",
       "       -0.45360591, -0.43599392, -0.47830564, -0.45432184, -0.44973986,\n",
       "       -0.40084155, -0.44458513, -0.39497089, -0.42604244, -0.40835886,\n",
       "       -0.417666  , -0.53429171, -0.47322251, -0.45747195, -0.4601925 ,\n",
       "       -0.43169832, -0.51846956, -0.44028953, -0.44258052, -0.41494545,\n",
       "       -0.5037929 , -0.40835886, -0.51295686, -0.47923636, -0.5213333 ,\n",
       "       -0.52047417, -0.44258052, -0.5355088 , -0.40141429, -0.49942571,\n",
       "       -0.41451589, -0.58462189, -0.42010018, -0.48367515, -0.40993391,\n",
       "       -0.43971678, -0.44759206, -0.42539809, -0.48381834, -0.47035877,\n",
       "       -0.49684834, -0.44365442, -0.42604244, -0.45460822, -0.43270062,\n",
       "       -0.46992921, -0.56851337, -0.42382304, -0.53536561, -0.49978367,\n",
       "       -0.47186223, -0.4231071 , -0.39618797, -0.44830799, -0.57259419,\n",
       "       -0.40506556, -0.44973986, -0.49892455, -0.56622238, -0.46090844,\n",
       "       -0.44630338, -0.48775598, -0.48109779, -0.46470289, -0.5136728 ,\n",
       "       -0.44258052, -0.44558744, -0.42725952, -0.44959668, -0.51338642,\n",
       "       -0.47236339, -0.49720631, -0.44508629, -0.52591528, -0.40306094,\n",
       "       -0.45718558, -0.39962446, -0.45288997, -0.52104692, -0.51503307,\n",
       "       -0.40878842, -0.40048358, -0.43857129, -0.43198469, -0.39962446,\n",
       "       -0.44071909, -0.43277222, -0.47107471, -0.51317164, -0.50443725,\n",
       "       -0.49971208, -0.44658975, -0.46720866, -0.52534253, -0.46319943,\n",
       "       -0.40284616, -0.4024882 , -0.47229179, -0.47751811, -0.44744887,\n",
       "       -0.47830564, -0.44028953, -0.41859672, -0.44966827, -0.58598217,\n",
       "       -0.40048358, -0.43040964, -0.4438692 , -0.44157821, -0.4296937 ,\n",
       "       -0.43778376, -0.39933808])"
      ]
     },
     "execution_count": 14,
     "metadata": {},
     "output_type": "execute_result"
    }
   ],
   "source": [
    "yp=pred(x_train,w,b)\n",
    "yp"
   ]
  },
  {
   "cell_type": "code",
   "execution_count": 15,
   "id": "bdf454d6",
   "metadata": {
    "execution": {
     "iopub.execute_input": "2024-09-01T13:09:46.437767Z",
     "iopub.status.busy": "2024-09-01T13:09:46.437356Z",
     "iopub.status.idle": "2024-09-01T13:09:46.510725Z",
     "shell.execute_reply": "2024-09-01T13:09:46.509684Z"
    },
    "papermill": {
     "duration": 0.089425,
     "end_time": "2024-09-01T13:09:46.513346",
     "exception": false,
     "start_time": "2024-09-01T13:09:46.423921",
     "status": "completed"
    },
    "tags": []
   },
   "outputs": [],
   "source": [
    "total_cost,predict,w_and_b=gradient(x_train,y_train,w,b)"
   ]
  },
  {
   "cell_type": "code",
   "execution_count": 16,
   "id": "ef4d09b5",
   "metadata": {
    "execution": {
     "iopub.execute_input": "2024-09-01T13:09:46.540679Z",
     "iopub.status.busy": "2024-09-01T13:09:46.540274Z",
     "iopub.status.idle": "2024-09-01T13:09:46.789112Z",
     "shell.execute_reply": "2024-09-01T13:09:46.787923Z"
    },
    "papermill": {
     "duration": 0.264759,
     "end_time": "2024-09-01T13:09:46.791675",
     "exception": false,
     "start_time": "2024-09-01T13:09:46.526916",
     "status": "completed"
    },
    "tags": []
   },
   "outputs": [
    {
     "data": {
      "image/png": "[encoded data removed]",
      "text/plain": [
       "<Figure size 640x480 with 1 Axes>"
      ]
     },
     "metadata": {},
     "output_type": "display_data"
    }
   ],
   "source": [
    "\n",
    "plt.plot(total_cost)\n",
    "plt.show()"
   ]
  },
  {
   "cell_type": "code",
   "execution_count": 17,
   "id": "cf1aaac6",
   "metadata": {
    "execution": {
     "iopub.execute_input": "2024-09-01T13:09:46.818254Z",
     "iopub.status.busy": "2024-09-01T13:09:46.817690Z",
     "iopub.status.idle": "2024-09-01T13:09:47.163217Z",
     "shell.execute_reply": "2024-09-01T13:09:47.162087Z"
    },
    "papermill": {
     "duration": 0.361377,
     "end_time": "2024-09-01T13:09:47.165603",
     "exception": false,
     "start_time": "2024-09-01T13:09:46.804226",
     "status": "completed"
    },
    "tags": []
   },
   "outputs": [
    {
     "data": {
      "image/png": "[encoded data removed]",
      "text/plain": [
       "<Figure size 640x480 with 1 Axes>"
      ]
     },
     "metadata": {},
     "output_type": "display_data"
    }
   ],
   "source": [
    "\n",
    "plt.scatter(x_train, y_train, color='blue', label='Data')\n",
    "\n",
    "\n",
    "plt.plot(x_train, predict[-1], color='red', label='Predicted Line')\n",
    "\n",
    "plt.xlabel('X')\n",
    "plt.ylabel('Y')\n",
    "plt.title('Linear Regression Fit')\n",
    "plt.legend()\n",
    "plt.show()\n"
   ]
  },
  {
   "cell_type": "code",
   "execution_count": 18,
   "id": "c8c1ebd3",
   "metadata": {
    "execution": {
     "iopub.execute_input": "2024-09-01T13:09:47.194575Z",
     "iopub.status.busy": "2024-09-01T13:09:47.193685Z",
     "iopub.status.idle": "2024-09-01T13:09:47.201610Z",
     "shell.execute_reply": "2024-09-01T13:09:47.200533Z"
    },
    "papermill": {
     "duration": 0.024992,
     "end_time": "2024-09-01T13:09:47.203886",
     "exception": false,
     "start_time": "2024-09-01T13:09:47.178894",
     "status": "completed"
    },
    "tags": []
   },
   "outputs": [
    {
     "data": {
      "text/plain": [
       "316697.7976240729"
      ]
     },
     "execution_count": 18,
     "metadata": {},
     "output_type": "execute_result"
    }
   ],
   "source": [
    "final=w_and_b[-1]\n",
    "final_w=final[0]\n",
    "final_w"
   ]
  },
  {
   "cell_type": "code",
   "execution_count": 19,
   "id": "da05ef3b",
   "metadata": {
    "execution": {
     "iopub.execute_input": "2024-09-01T13:09:47.232224Z",
     "iopub.status.busy": "2024-09-01T13:09:47.231246Z",
     "iopub.status.idle": "2024-09-01T13:09:47.238499Z",
     "shell.execute_reply": "2024-09-01T13:09:47.237386Z"
    },
    "papermill": {
     "duration": 0.023621,
     "end_time": "2024-09-01T13:09:47.240708",
     "exception": false,
     "start_time": "2024-09-01T13:09:47.217087",
     "status": "completed"
    },
    "tags": []
   },
   "outputs": [
    {
     "data": {
      "text/plain": [
       "38313.711293761495"
      ]
     },
     "execution_count": 19,
     "metadata": {},
     "output_type": "execute_result"
    }
   ],
   "source": [
    "final_b=final[1]\n",
    "final_b"
   ]
  },
  {
   "cell_type": "code",
   "execution_count": 20,
   "id": "3944c470",
   "metadata": {
    "execution": {
     "iopub.execute_input": "2024-09-01T13:09:47.269337Z",
     "iopub.status.busy": "2024-09-01T13:09:47.268648Z",
     "iopub.status.idle": "2024-09-01T13:09:47.273762Z",
     "shell.execute_reply": "2024-09-01T13:09:47.272675Z"
    },
    "papermill": {
     "duration": 0.021919,
     "end_time": "2024-09-01T13:09:47.276032",
     "exception": false,
     "start_time": "2024-09-01T13:09:47.254113",
     "status": "completed"
    },
    "tags": []
   },
   "outputs": [],
   "source": [
    "y_prd=pred(x_test,final_w,final_b)"
   ]
  },
  {
   "cell_type": "code",
   "execution_count": 21,
   "id": "abd881f7",
   "metadata": {
    "execution": {
     "iopub.execute_input": "2024-09-01T13:09:47.304876Z",
     "iopub.status.busy": "2024-09-01T13:09:47.303846Z",
     "iopub.status.idle": "2024-09-01T13:09:47.618636Z",
     "shell.execute_reply": "2024-09-01T13:09:47.617493Z"
    },
    "papermill": {
     "duration": 0.33222,
     "end_time": "2024-09-01T13:09:47.621660",
     "exception": false,
     "start_time": "2024-09-01T13:09:47.289440",
     "status": "completed"
    },
    "tags": []
   },
   "outputs": [
    {
     "data": {
      "text/plain": [
       "[<matplotlib.lines.Line2D at 0x7fa1374caa10>]"
      ]
     },
     "execution_count": 21,
     "metadata": {},
     "output_type": "execute_result"
    },
    {
     "data": {
      "image/png": "[encoded data removed]",
      "text/plain": [
       "<Figure size 640x480 with 1 Axes>"
      ]
     },
     "metadata": {},
     "output_type": "display_data"
    }
   ],
   "source": [
    "plt.scatter(x_test,y_test)\n",
    "plt.plot(x_test,y_prd,color='red')"
   ]
  },
  {
   "cell_type": "code",
   "execution_count": null,
   "id": "204dab97",
   "metadata": {
    "papermill": {
     "duration": 0.014296,
     "end_time": "2024-09-01T13:09:47.654805",
     "exception": false,
     "start_time": "2024-09-01T13:09:47.640509",
     "status": "completed"
    },
    "tags": []
   },
   "outputs": [],
   "source": []
  },
  {
   "cell_type": "code",
   "execution_count": null,
   "id": "db8b5cf2",
   "metadata": {
    "execution": {
     "iopub.execute_input": "2024-08-29T15:13:21.358441Z",
     "iopub.status.busy": "2024-08-29T15:13:21.357899Z",
     "iopub.status.idle": "2024-08-29T15:13:21.692616Z",
     "shell.execute_reply": "2024-08-29T15:13:21.691041Z",
     "shell.execute_reply.started": "2024-08-29T15:13:21.358393Z"
    },
    "papermill": {
     "duration": 0.017355,
     "end_time": "2024-09-01T13:09:47.692168",
     "exception": false,
     "start_time": "2024-09-01T13:09:47.674813",
     "status": "completed"
    },
    "tags": []
   },
   "outputs": [],
   "source": []
  },
  {
   "cell_type": "code",
   "execution_count": null,
   "id": "7a58586b",
   "metadata": {
    "execution": {
     "iopub.execute_input": "2024-08-29T15:24:36.563630Z",
     "iopub.status.busy": "2024-08-29T15:24:36.563218Z",
     "iopub.status.idle": "2024-08-29T15:24:36.568717Z",
     "shell.execute_reply": "2024-08-29T15:24:36.567569Z",
     "shell.execute_reply.started": "2024-08-29T15:24:36.563593Z"
    },
    "papermill": {
     "duration": 0.016188,
     "end_time": "2024-09-01T13:09:47.729282",
     "exception": false,
     "start_time": "2024-09-01T13:09:47.713094",
     "status": "completed"
    },
    "tags": []
   },
   "outputs": [],
   "source": []
  },
  {
   "cell_type": "code",
   "execution_count": 22,
   "id": "dec57a17",
   "metadata": {
    "execution": {
     "iopub.execute_input": "2024-09-01T13:09:47.767813Z",
     "iopub.status.busy": "2024-09-01T13:09:47.767406Z",
     "iopub.status.idle": "2024-09-01T13:09:47.773006Z",
     "shell.execute_reply": "2024-09-01T13:09:47.771742Z"
    },
    "papermill": {
     "duration": 0.025504,
     "end_time": "2024-09-01T13:09:47.775566",
     "exception": false,
     "start_time": "2024-09-01T13:09:47.750062",
     "status": "completed"
    },
    "tags": []
   },
   "outputs": [],
   "source": [
    "x_tested=pred(x_test,w,b)"
   ]
  },
  {
   "cell_type": "code",
   "execution_count": null,
   "id": "4fd0f8bd",
   "metadata": {
    "execution": {
     "iopub.execute_input": "2024-08-29T15:40:50.221805Z",
     "iopub.status.busy": "2024-08-29T15:40:50.221340Z",
     "iopub.status.idle": "2024-08-29T15:40:50.272709Z",
     "shell.execute_reply": "2024-08-29T15:40:50.271282Z",
     "shell.execute_reply.started": "2024-08-29T15:40:50.221764Z"
    },
    "papermill": {
     "duration": 0.017674,
     "end_time": "2024-09-01T13:09:47.807989",
     "exception": false,
     "start_time": "2024-09-01T13:09:47.790315",
     "status": "completed"
    },
    "tags": []
   },
   "outputs": [],
   "source": []
  },
  {
   "cell_type": "code",
   "execution_count": 23,
   "id": "4ad85f04",
   "metadata": {
    "execution": {
     "iopub.execute_input": "2024-09-01T13:09:47.844692Z",
     "iopub.status.busy": "2024-09-01T13:09:47.843676Z",
     "iopub.status.idle": "2024-09-01T13:09:47.849609Z",
     "shell.execute_reply": "2024-09-01T13:09:47.848460Z"
    },
    "papermill": {
     "duration": 0.025096,
     "end_time": "2024-09-01T13:09:47.852089",
     "exception": false,
     "start_time": "2024-09-01T13:09:47.826993",
     "status": "completed"
    },
    "tags": []
   },
   "outputs": [],
   "source": [
    "y_pred_test = pred(x_test, final_w, final_b)\n"
   ]
  },
  {
   "cell_type": "code",
   "execution_count": 24,
   "id": "3282e430",
   "metadata": {
    "execution": {
     "iopub.execute_input": "2024-09-01T13:09:47.885195Z",
     "iopub.status.busy": "2024-09-01T13:09:47.884736Z",
     "iopub.status.idle": "2024-09-01T13:09:48.180501Z",
     "shell.execute_reply": "2024-09-01T13:09:48.179215Z"
    },
    "papermill": {
     "duration": 0.316799,
     "end_time": "2024-09-01T13:09:48.183172",
     "exception": false,
     "start_time": "2024-09-01T13:09:47.866373",
     "status": "completed"
    },
    "tags": []
   },
   "outputs": [
    {
     "data": {
      "image/png": "[encoded data removed]",
      "text/plain": [
       "<Figure size 640x480 with 1 Axes>"
      ]
     },
     "metadata": {},
     "output_type": "display_data"
    }
   ],
   "source": [
    "plt.scatter(x_test, y_test, color='blue', label='Test Data')\n",
    "\n",
    "# Plot the regression line\n",
    "plt.plot(x_test, y_pred_test, color='red', label='Regression Line')\n",
    "\n",
    "plt.xlabel('X')\n",
    "plt.ylabel('Y')\n",
    "plt.title('Linear Regression on Test Data')\n",
    "plt.legend()\n",
    "plt.show()\n"
   ]
  },
  {
   "cell_type": "code",
   "execution_count": null,
   "id": "9f20c896",
   "metadata": {
    "papermill": {
     "duration": 0.014944,
     "end_time": "2024-09-01T13:09:48.214034",
     "exception": false,
     "start_time": "2024-09-01T13:09:48.199090",
     "status": "completed"
    },
    "tags": []
   },
   "outputs": [],
   "source": []
  }
 ],
 "metadata": {
  "kaggle": {
   "accelerator": "none",
   "dataSources": [
    {
     "datasetId": 56878,
     "sourceId": 109427,
     "sourceType": "datasetVersion"
    }
   ],
   "dockerImageVersionId": 30761,
   "isGpuEnabled": false,
   "isInternetEnabled": false,
   "language": "python",
   "sourceType": "notebook"
  },
  "kernelspec": {
   "display_name": "Python 3 (ipykernel)",
   "language": "python",
   "name": "python3"
  },
  "language_info": {
   "codemirror_mode": {
    "name": "ipython",
    "version": 3
   },
   "file_extension": ".py",
   "mimetype": "text/x-python",
   "name": "python",
   "nbconvert_exporter": "python",
   "pygments_lexer": "ipython3",
   "version": "3.11.5"
  },
  "papermill": {
   "default_parameters": {},
   "duration": 8.530748,
   "end_time": "2024-09-01T13:09:48.750098",
   "environment_variables": {},
   "exception": null,
   "input_path": "__notebook__.ipynb",
   "output_path": "__notebook__.ipynb",
   "parameters": {},
   "start_time": "2024-09-01T13:09:40.219350",
   "version": "2.6.0"
  }
 },
 "nbformat": 4,
 "nbformat_minor": 5
}
