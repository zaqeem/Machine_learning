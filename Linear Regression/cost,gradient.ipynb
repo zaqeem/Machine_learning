{
 "cells": [
  {
   "cell_type": "code",
   "execution_count": 1,
   "id": "0f76cef1",
   "metadata": {},
   "outputs": [],
   "source": [
    "import pandas as pd\n",
    "import numpy as np\n",
    "import matplotlib.pyplot as plt"
   ]
  },
  {
   "cell_type": "code",
   "execution_count": 2,
   "id": "a395666c",
   "metadata": {},
   "outputs": [
    {
     "data": {
      "text/html": [
       "<div>\n",
       "<style scoped>\n",
       "    .dataframe tbody tr th:only-of-type {\n",
       "        vertical-align: middle;\n",
       "    }\n",
       "\n",
       "    .dataframe tbody tr th {\n",
       "        vertical-align: top;\n",
       "    }\n",
       "\n",
       "    .dataframe thead th {\n",
       "        text-align: right;\n",
       "    }\n",
       "</style>\n",
       "<table border=\"1\" class=\"dataframe\">\n",
       "  <thead>\n",
       "    <tr style=\"text-align: right;\">\n",
       "      <th></th>\n",
       "      <th>cgpa</th>\n",
       "      <th>package</th>\n",
       "    </tr>\n",
       "  </thead>\n",
       "  <tbody>\n",
       "    <tr>\n",
       "      <th>0</th>\n",
       "      <td>6.89</td>\n",
       "      <td>3.26</td>\n",
       "    </tr>\n",
       "    <tr>\n",
       "      <th>1</th>\n",
       "      <td>5.12</td>\n",
       "      <td>1.98</td>\n",
       "    </tr>\n",
       "    <tr>\n",
       "      <th>2</th>\n",
       "      <td>7.82</td>\n",
       "      <td>3.25</td>\n",
       "    </tr>\n",
       "    <tr>\n",
       "      <th>3</th>\n",
       "      <td>7.42</td>\n",
       "      <td>3.67</td>\n",
       "    </tr>\n",
       "    <tr>\n",
       "      <th>4</th>\n",
       "      <td>6.94</td>\n",
       "      <td>3.57</td>\n",
       "    </tr>\n",
       "  </tbody>\n",
       "</table>\n",
       "</div>"
      ],
      "text/plain": [
       "   cgpa  package\n",
       "0  6.89     3.26\n",
       "1  5.12     1.98\n",
       "2  7.82     3.25\n",
       "3  7.42     3.67\n",
       "4  6.94     3.57"
      ]
     },
     "execution_count": 2,
     "metadata": {},
     "output_type": "execute_result"
    }
   ],
   "source": [
    "df=pd.read_csv('placement.csv')\n",
    "df.head()"
   ]
  },
  {
   "cell_type": "code",
   "execution_count": 3,
   "id": "803f626d",
   "metadata": {},
   "outputs": [
    {
     "data": {
      "image/png": "[encoded data removed]",
      "text/plain": [
       "<Figure size 640x480 with 1 Axes>"
      ]
     },
     "metadata": {},
     "output_type": "display_data"
    }
   ],
   "source": [
    "plt.scatter(df['cgpa'],df['package'])\n",
    "plt.xlabel('CGPA')\n",
    "plt.ylabel('Package')\n",
    "plt.show()"
   ]
  },
  {
   "cell_type": "code",
   "execution_count": 4,
   "id": "337d60b9",
   "metadata": {},
   "outputs": [
    {
     "name": "stdout",
     "output_type": "stream",
     "text": [
      "0      6.89\n",
      "1      5.12\n",
      "2      7.82\n",
      "3      7.42\n",
      "4      6.94\n",
      "       ... \n",
      "195    6.93\n",
      "196    5.89\n",
      "197    7.21\n",
      "198    7.63\n",
      "199    6.22\n",
      "Name: cgpa, Length: 200, dtype: float64\n",
      "0      3.26\n",
      "1      1.98\n",
      "2      3.25\n",
      "3      3.67\n",
      "4      3.57\n",
      "       ... \n",
      "195    2.46\n",
      "196    2.57\n",
      "197    3.24\n",
      "198    3.96\n",
      "199    2.33\n",
      "Name: package, Length: 200, dtype: float64\n"
     ]
    }
   ],
   "source": [
    "X=df['cgpa']\n",
    "y=df['package']\n",
    "          \n",
    "print(X)\n",
    "print(y)"
   ]
  },
  {
   "cell_type": "code",
   "execution_count": 5,
   "id": "70893058",
   "metadata": {},
   "outputs": [],
   "source": [
    "def prediction(X,w,b):\n",
    "    m=len(X)\n",
    "    predicted_value=np.zeros(m)\n",
    "    for i in range(m):\n",
    "        predicted_value[i]=w*X[i]+b\n",
    "    return predicted_value\n"
   ]
  },
  {
   "cell_type": "code",
   "execution_count": 6,
   "id": "72177f79",
   "metadata": {},
   "outputs": [
    {
     "data": {
      "text/plain": [
       "array([1.5, 1.5, 1.5, 1.5, 1.5, 1.5, 1.5, 1.5, 1.5, 1.5, 1.5, 1.5, 1.5,\n",
       "       1.5, 1.5, 1.5, 1.5, 1.5, 1.5, 1.5, 1.5, 1.5, 1.5, 1.5, 1.5, 1.5,\n",
       "       1.5, 1.5, 1.5, 1.5, 1.5, 1.5, 1.5, 1.5, 1.5, 1.5, 1.5, 1.5, 1.5,\n",
       "       1.5, 1.5, 1.5, 1.5, 1.5, 1.5, 1.5, 1.5, 1.5, 1.5, 1.5, 1.5, 1.5,\n",
       "       1.5, 1.5, 1.5, 1.5, 1.5, 1.5, 1.5, 1.5, 1.5, 1.5, 1.5, 1.5, 1.5,\n",
       "       1.5, 1.5, 1.5, 1.5, 1.5, 1.5, 1.5, 1.5, 1.5, 1.5, 1.5, 1.5, 1.5,\n",
       "       1.5, 1.5, 1.5, 1.5, 1.5, 1.5, 1.5, 1.5, 1.5, 1.5, 1.5, 1.5, 1.5,\n",
       "       1.5, 1.5, 1.5, 1.5, 1.5, 1.5, 1.5, 1.5, 1.5, 1.5, 1.5, 1.5, 1.5,\n",
       "       1.5, 1.5, 1.5, 1.5, 1.5, 1.5, 1.5, 1.5, 1.5, 1.5, 1.5, 1.5, 1.5,\n",
       "       1.5, 1.5, 1.5, 1.5, 1.5, 1.5, 1.5, 1.5, 1.5, 1.5, 1.5, 1.5, 1.5,\n",
       "       1.5, 1.5, 1.5, 1.5, 1.5, 1.5, 1.5, 1.5, 1.5, 1.5, 1.5, 1.5, 1.5,\n",
       "       1.5, 1.5, 1.5, 1.5, 1.5, 1.5, 1.5, 1.5, 1.5, 1.5, 1.5, 1.5, 1.5,\n",
       "       1.5, 1.5, 1.5, 1.5, 1.5, 1.5, 1.5, 1.5, 1.5, 1.5, 1.5, 1.5, 1.5,\n",
       "       1.5, 1.5, 1.5, 1.5, 1.5, 1.5, 1.5, 1.5, 1.5, 1.5, 1.5, 1.5, 1.5,\n",
       "       1.5, 1.5, 1.5, 1.5, 1.5, 1.5, 1.5, 1.5, 1.5, 1.5, 1.5, 1.5, 1.5,\n",
       "       1.5, 1.5, 1.5, 1.5, 1.5])"
      ]
     },
     "execution_count": 6,
     "metadata": {},
     "output_type": "execute_result"
    }
   ],
   "source": [
    "w=0\n",
    "b=1.5\n",
    "y_hat=prediction(X,w,b)\n",
    "y_hat"
   ]
  },
  {
   "cell_type": "code",
   "execution_count": 7,
   "id": "885dd542",
   "metadata": {},
   "outputs": [
    {
     "data": {
      "image/png": "[encoded data removed]",
      "text/plain": [
       "<Figure size 640x480 with 1 Axes>"
      ]
     },
     "metadata": {},
     "output_type": "display_data"
    }
   ],
   "source": [
    "plt.scatter(X, y, label=\"Actual data\")  # Scatter plot of actual data\n",
    "plt.plot(X, y_hat, color=\"red\", label=\"Prediction\")  # Line plot of predictions\n",
    "plt.xlabel('CGPA')\n",
    "plt.ylabel('Package')\n",
    "plt.legend()  # Show legend\n",
    "plt.show()\n"
   ]
  },
  {
   "cell_type": "code",
   "execution_count": null,
   "id": "2349f053",
   "metadata": {},
   "outputs": [],
   "source": []
  },
  {
   "cell_type": "code",
   "execution_count": null,
   "id": "89a424e5",
   "metadata": {},
   "outputs": [],
   "source": []
  },
  {
   "cell_type": "code",
   "execution_count": 8,
   "id": "150f4e43",
   "metadata": {},
   "outputs": [],
   "source": [
    "def cost(X,y,w,b):\n",
    "    m = X.shape[0] \n",
    "    cost_sum = 0 \n",
    "    for i in range(m): \n",
    "        f_wb=w*X[i]+b\n",
    "        cost_sum=cost_sum+(f_wb-y[i])**2\n",
    "    total_cost=1/(2*m)*cost_sum\n",
    "    \n",
    "    return total_cost"
   ]
  },
  {
   "cell_type": "code",
   "execution_count": 9,
   "id": "67701453",
   "metadata": {},
   "outputs": [
    {
     "data": {
      "text/plain": [
       "1.357072750000001"
      ]
     },
     "execution_count": 9,
     "metadata": {},
     "output_type": "execute_result"
    }
   ],
   "source": [
    "w=0\n",
    "b=1.5\n",
    "cost(X,y,w,b)\n"
   ]
  },
  {
   "cell_type": "code",
   "execution_count": 10,
   "id": "e13fb78e",
   "metadata": {},
   "outputs": [],
   "source": [
    "def cost_and_pre(y_hat,y):\n",
    "    m = y.shape[0] \n",
    "    \n",
    "    cost_sum = 0 \n",
    "    for i in range(m): \n",
    "        cost_sum=cost_sum+(y_hat[i]-y[i])**2\n",
    "    total_cost=1/(2*m)*cost_sum\n",
    "    \n",
    "    return total_cost"
   ]
  },
  {
   "cell_type": "code",
   "execution_count": 11,
   "id": "fde55e59",
   "metadata": {},
   "outputs": [],
   "source": [
    "def cost_by_numpy(X,y,w,b):\n",
    "    return 1/(2*len(X))*np.sum(((np.dot(X,w)+b)-y)**2)"
   ]
  },
  {
   "cell_type": "code",
   "execution_count": null,
   "id": "ece696d8",
   "metadata": {},
   "outputs": [],
   "source": []
  },
  {
   "cell_type": "code",
   "execution_count": 12,
   "id": "59cfba8b",
   "metadata": {},
   "outputs": [],
   "source": [
    "def cost_by_mean(X,y,w,b):\n",
    "    return np.mean(((np.dot(X,w)+b)-y)**2)\n",
    "cost=cost_by_numpy(X,y,w,b)"
   ]
  },
  {
   "cell_type": "code",
   "execution_count": 13,
   "id": "cf11c806",
   "metadata": {},
   "outputs": [
    {
     "data": {
      "text/plain": [
       "1.35707275"
      ]
     },
     "execution_count": 13,
     "metadata": {},
     "output_type": "execute_result"
    }
   ],
   "source": [
    "cost"
   ]
  },
  {
   "cell_type": "code",
   "execution_count": 14,
   "id": "c99e768a",
   "metadata": {},
   "outputs": [
    {
     "name": "stdout",
     "output_type": "stream",
     "text": [
      "1.357072750000001\n"
     ]
    }
   ],
   "source": [
    "print(cost_and_pre(y_hat,y))"
   ]
  },
  {
   "cell_type": "code",
   "execution_count": 15,
   "id": "1f1a2c49",
   "metadata": {},
   "outputs": [
    {
     "name": "stdout",
     "output_type": "stream",
     "text": [
      "1.35707275\n"
     ]
    }
   ],
   "source": [
    "print(cost_by_numpy(X,y,w,b))"
   ]
  },
  {
   "cell_type": "code",
   "execution_count": 16,
   "id": "65d24c7a",
   "metadata": {},
   "outputs": [
    {
     "name": "stdout",
     "output_type": "stream",
     "text": [
      "2.7141454999999994\n"
     ]
    }
   ],
   "source": [
    "print(cost_by_mean(X,y,w,b))"
   ]
  },
  {
   "cell_type": "code",
   "execution_count": 17,
   "id": "2856fae7",
   "metadata": {},
   "outputs": [],
   "source": [
    "\n",
    "def gradient_descent(X,y):\n",
    "    m=len(X)\n",
    "    w=np.random.randn()\n",
    "    b=np.random.randn()\n",
    "    cost_list=[]\n",
    "    parameter_list=[]\n",
    "    alpha=0.01\n",
    "    iteration=100\n",
    "    for i in range(iteration):\n",
    "        y_hat=prediction(X,w,b)\n",
    "        cost=cost_by_numpy(X,y,w,b)\n",
    "        cost_list.append(cost)\n",
    "        dw=1/(m)*np.dot(X,(y_hat-y))\n",
    "        db=1/(m)*np.sum(y_hat-y)\n",
    "        w-=alpha*dw\n",
    "        b-=alpha*db\n",
    "        parameter_list.append([w,b])\n",
    "    return (parameter_list,cost_list)"
   ]
  },
  {
   "cell_type": "code",
   "execution_count": 18,
   "id": "5bc0d74f",
   "metadata": {},
   "outputs": [],
   "source": [
    "parameter_list,cost_list=gradient_descent(X,y)"
   ]
  },
  {
   "cell_type": "code",
   "execution_count": 19,
   "id": "dc152414",
   "metadata": {},
   "outputs": [
    {
     "data": {
      "text/plain": [
       "[87.28582082937683,\n",
       " 21.055239191616238,\n",
       " 5.142018615147617,\n",
       " 1.3185349991562323,\n",
       " 0.3998487933313457,\n",
       " 0.17909738124437483,\n",
       " 0.12603855703871045,\n",
       " 0.11327118809060277,\n",
       " 0.11018464322799418,\n",
       " 0.10942411545804426,\n",
       " 0.1092224675503708,\n",
       " 0.10915510997936063,\n",
       " 0.10912002674579224,\n",
       " 0.10909270649296865,\n",
       " 0.1090672598809482,\n",
       " 0.10904227187606098,\n",
       " 0.10901740248483817,\n",
       " 0.10899257001339281,\n",
       " 0.10896775482940133,\n",
       " 0.10894295221205447,\n",
       " 0.10891816102332982,\n",
       " 0.10889338098604168,\n",
       " 0.10886861202983894,\n",
       " 0.10884385413406836,\n",
       " 0.10881910729001916,\n",
       " 0.10879437149185173,\n",
       " 0.10876964673441791,\n",
       " 0.10874493301273741,\n",
       " 0.1087202303218719,\n",
       " 0.10869553865689485,\n",
       " 0.10867085801288419,\n",
       " 0.10864618838492059,\n",
       " 0.10862152976808707,\n",
       " 0.1085968821574689,\n",
       " 0.10857224554815349,\n",
       " 0.1085476199352305,\n",
       " 0.10852300531379178,\n",
       " 0.1084984016789313,\n",
       " 0.10847380902574529,\n",
       " 0.10844922734933216,\n",
       " 0.10842465664479249,\n",
       " 0.10840009690722907,\n",
       " 0.10837554813174687,\n",
       " 0.10835101031345298,\n",
       " 0.10832648344745678,\n",
       " 0.10830196752886977,\n",
       " 0.10827746255280567,\n",
       " 0.10825296851438028,\n",
       " 0.10822848540871173,\n",
       " 0.10820401323092022,\n",
       " 0.10817955197612818,\n",
       " 0.10815510163946015,\n",
       " 0.10813066221604295,\n",
       " 0.10810623370100553,\n",
       " 0.10808181608947896,\n",
       " 0.10805740937659654,\n",
       " 0.10803301355749376,\n",
       " 0.1080086286273082,\n",
       " 0.10798425458117972,\n",
       " 0.10795989141425025,\n",
       " 0.10793553912166394,\n",
       " 0.10791119769856707,\n",
       " 0.10788686714010816,\n",
       " 0.1078625474414378,\n",
       " 0.10783823859770887,\n",
       " 0.10781394060407624,\n",
       " 0.10778965345569715,\n",
       " 0.1077653771477308,\n",
       " 0.10774111167533863,\n",
       " 0.10771685703368436,\n",
       " 0.10769261321793362,\n",
       " 0.10766838022325448,\n",
       " 0.1076441580448169,\n",
       " 0.10761994667779318,\n",
       " 0.10759574611735773,\n",
       " 0.10757155635868705,\n",
       " 0.10754737739695987,\n",
       " 0.10752320922735703,\n",
       " 0.10749905184506155,\n",
       " 0.1074749052452586,\n",
       " 0.10745076942313546,\n",
       " 0.10742664437388158,\n",
       " 0.10740253009268855,\n",
       " 0.10737842657475016,\n",
       " 0.10735433381526223,\n",
       " 0.10733025180942286,\n",
       " 0.10730618055243221,\n",
       " 0.1072821200394926,\n",
       " 0.10725807026580843,\n",
       " 0.10723403122658638,\n",
       " 0.10721000291703518,\n",
       " 0.10718598533236573,\n",
       " 0.10716197846779098,\n",
       " 0.10713798231852613,\n",
       " 0.10711399687978844,\n",
       " 0.10709002214679739,\n",
       " 0.10706605811477449,\n",
       " 0.10704210477894342,\n",
       " 0.10701816213453008,\n",
       " 0.10699423017676235]"
      ]
     },
     "execution_count": 19,
     "metadata": {},
     "output_type": "execute_result"
    }
   ],
   "source": [
    "cost_list"
   ]
  },
  {
   "cell_type": "code",
   "execution_count": 20,
   "id": "447d2425",
   "metadata": {},
   "outputs": [],
   "source": [
    "import numpy as np\n",
    "\n",
    "# Define the prediction function\n",
    "def prediction(X, w, b):\n",
    "    return w * X + b\n",
    "\n",
    "# Define the cost function (Mean Squared Error)\n",
    "def cost_by_numpy(y_hat, y):\n",
    "    return np.mean((y_hat - y) ** 2)\n",
    "\n",
    "# Define the gradient descent function\n",
    "def gradient_descent(X, y):\n",
    "    m = len(X)\n",
    "    w = np.random.randn()\n",
    "    b = np.random.randn()\n",
    "    cost_list = []\n",
    "    parameter_list = []\n",
    "    alpha = 0.01\n",
    "    iterations = 100\n",
    "\n",
    "    for i in range(iterations):\n",
    "        y_hat = prediction(X, w, b)\n",
    "        \n",
    "        # Calculate gradients\n",
    "        dw = (2/m) * np.dot(X.T, (y_hat - y))\n",
    "        db = (2/m) * np.sum(y_hat - y)\n",
    "        \n",
    "        # Update weights and bias\n",
    "        w -= alpha * dw\n",
    "        b -= alpha * db\n",
    "        \n",
    "        # Calculate cost\n",
    "        cost = cost_by_numpy(y_hat, y)\n",
    "        \n",
    "        # Store the cost and parameters for each iteration\n",
    "        cost_list.append(cost)\n",
    "        parameter_list.append([w, b])\n",
    "    \n",
    "    return parameter_list, cost_list\n"
   ]
  },
  {
   "cell_type": "code",
   "execution_count": 21,
   "id": "49f7a2fd",
   "metadata": {},
   "outputs": [],
   "source": [
    "parameter_list,cost_list=gradient_descent(X,y)"
   ]
  },
  {
   "cell_type": "code",
   "execution_count": 22,
   "id": "25ca6fc0",
   "metadata": {},
   "outputs": [
    {
     "data": {
      "text/plain": [
       "[1.8420006848856016,\n",
       " 0.11362463462183921,\n",
       " 0.11295152256391945,\n",
       " 0.11294577480024111,\n",
       " 0.11294028971751244,\n",
       " 0.11293480963018421,\n",
       " 0.11292933443435199,\n",
       " 0.11292386412561133,\n",
       " 0.1129183986996,\n",
       " 0.11291293815195975,\n",
       " 0.11290748247833621,\n",
       " 0.11290203167437893,\n",
       " 0.11289658573574127,\n",
       " 0.11289114465808048,\n",
       " 0.11288570843705777,\n",
       " 0.11288027706833816,\n",
       " 0.11287485054759049,\n",
       " 0.11286942887048758,\n",
       " 0.112864012032706,\n",
       " 0.11285860002992631,\n",
       " 0.11285319285783281,\n",
       " 0.11284779051211363,\n",
       " 0.11284239298846088,\n",
       " 0.1128370002825704,\n",
       " 0.11283161239014194,\n",
       " 0.1128262293068791,\n",
       " 0.11282085102848921,\n",
       " 0.11281547755068352,\n",
       " 0.11281010886917713,\n",
       " 0.1128047449796889,\n",
       " 0.11279938587794149,\n",
       " 0.11279403155966149,\n",
       " 0.11278868202057918,\n",
       " 0.11278333725642875,\n",
       " 0.11277799726294813,\n",
       " 0.11277266203587906,\n",
       " 0.11276733157096717,\n",
       " 0.11276200586396175,\n",
       " 0.11275668491061598,\n",
       " 0.11275136870668682,\n",
       " 0.11274605724793497,\n",
       " 0.11274075053012496,\n",
       " 0.11273544854902508,\n",
       " 0.1127301513004074,\n",
       " 0.11272485878004776,\n",
       " 0.11271957098372576,\n",
       " 0.11271428790722482,\n",
       " 0.11270900954633209,\n",
       " 0.11270373589683846,\n",
       " 0.11269846695453857,\n",
       " 0.1126932027152309,\n",
       " 0.11268794317471752,\n",
       " 0.11268268832880445,\n",
       " 0.11267743817330128,\n",
       " 0.11267219270402143,\n",
       " 0.11266695191678203,\n",
       " 0.11266171580740397,\n",
       " 0.11265648437171182,\n",
       " 0.11265125760553392,\n",
       " 0.11264603550470234,\n",
       " 0.1126408180650528,\n",
       " 0.11263560528242483,\n",
       " 0.11263039715266161,\n",
       " 0.11262519367161007,\n",
       " 0.1126199948351208,\n",
       " 0.11261480063904816,\n",
       " 0.11260961107925013,\n",
       " 0.11260442615158846,\n",
       " 0.11259924585192856,\n",
       " 0.11259407017613952,\n",
       " 0.11258889912009412,\n",
       " 0.11258373267966888,\n",
       " 0.1125785708507439,\n",
       " 0.11257341362920303,\n",
       " 0.11256826101093383,\n",
       " 0.1125631129918274,\n",
       " 0.11255796956777861,\n",
       " 0.11255283073468597,\n",
       " 0.11254769648845166,\n",
       " 0.11254256682498152,\n",
       " 0.11253744174018503,\n",
       " 0.11253232122997524,\n",
       " 0.11252720529026904,\n",
       " 0.11252209391698678,\n",
       " 0.11251698710605262,\n",
       " 0.11251188485339415,\n",
       " 0.11250678715494279,\n",
       " 0.11250169400663351,\n",
       " 0.11249660540440486,\n",
       " 0.11249152134419908,\n",
       " 0.11248644182196202,\n",
       " 0.11248136683364318,\n",
       " 0.11247629637519563,\n",
       " 0.11247123044257602,\n",
       " 0.1124661690317447,\n",
       " 0.11246111213866555,\n",
       " 0.11245605975930609,\n",
       " 0.11245101188963744,\n",
       " 0.11244596852563428,\n",
       " 0.11244092966327494]"
      ]
     },
     "execution_count": 22,
     "metadata": {},
     "output_type": "execute_result"
    }
   ],
   "source": [
    "cost_list"
   ]
  },
  {
   "cell_type": "code",
   "execution_count": null,
   "id": "51833026",
   "metadata": {},
   "outputs": [],
   "source": []
  },
  {
   "cell_type": "code",
   "execution_count": null,
   "id": "cb0d7576",
   "metadata": {},
   "outputs": [],
   "source": []
  },
  {
   "cell_type": "code",
   "execution_count": null,
   "id": "45a40f09",
   "metadata": {},
   "outputs": [],
   "source": []
  },
  {
   "cell_type": "code",
   "execution_count": null,
   "id": "d3ab248a",
   "metadata": {},
   "outputs": [],
   "source": []
  }
 ],
 "metadata": {
  "kernelspec": {
   "display_name": "Python 3 (ipykernel)",
   "language": "python",
   "name": "python3"
  },
  "language_info": {
   "codemirror_mode": {
    "name": "ipython",
    "version": 3
   },
   "file_extension": ".py",
   "mimetype": "text/x-python",
   "name": "python",
   "nbconvert_exporter": "python",
   "pygments_lexer": "ipython3",
   "version": "3.10.9"
  }
 },
 "nbformat": 4,
 "nbformat_minor": 5
}
