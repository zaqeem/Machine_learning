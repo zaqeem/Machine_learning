{
 "cells": [
  {
   "cell_type": "code",
   "execution_count": null,
   "id": "f3c48e42",
   "metadata": {},
   "outputs": [],
   "source": [
    "import numpy as np\n",
    "import pandas as pd\n",
    "import matplotlib.pyplot as plt"
   ]
  },
  {
   "cell_type": "code",
   "execution_count": 5,
   "id": "73749b18",
   "metadata": {},
   "outputs": [
    {
     "name": "stdout",
     "output_type": "stream",
     "text": [
      "         X1         X2          y\n",
      "0  3.745401   0.628584  13.699097\n",
      "1  9.507143  12.728208  92.394724\n",
      "2  7.319939   6.287120  53.688489\n",
      "3  5.986585  10.171414  68.102472\n",
      "4  1.560186  18.151329  97.302981\n"
     ]
    }
   ],
   "source": [
    "\n",
    "np.random.seed(42)\n",
    "\n",
    "n_samples = 100\n",
    "\n",
    "X1 = np.random.rand(n_samples) * 10  # Feature 1\n",
    "X2 = np.random.rand(n_samples) * 20  # Feature 2\n",
    "\n",
    "\n",
    "true_coefficients = [3, 5]\n",
    "\n",
    "# Generate the target variable with some added noise\n",
    "noise = np.random.randn(n_samples)  \n",
    "y = true_coefficients[0] * X1 + true_coefficients[1] * X2 + noise\n",
    "\n",
    "\n",
    "data = pd.DataFrame({\n",
    "    'X1': X1,\n",
    "    'X2': X2,\n",
    "    'y': y\n",
    "})\n",
    "\n",
    "# Display the first few rows of the dataset\n",
    "print(data.head())\n"
   ]
  },
  {
   "cell_type": "code",
   "execution_count": 6,
   "id": "d30a1561",
   "metadata": {},
   "outputs": [],
   "source": [
    "x_train=data[['X1','X2']].values"
   ]
  },
  {
   "cell_type": "code",
   "execution_count": 7,
   "id": "f965d15b",
   "metadata": {},
   "outputs": [
    {
     "data": {
      "text/plain": [
       "(100, 2)"
      ]
     },
     "execution_count": 7,
     "metadata": {},
     "output_type": "execute_result"
    }
   ],
   "source": [
    "x_train.shape"
   ]
  },
  {
   "cell_type": "code",
   "execution_count": 8,
   "id": "a13840b7",
   "metadata": {},
   "outputs": [],
   "source": [
    "y_train=data['y'].values\n"
   ]
  },
  {
   "cell_type": "code",
   "execution_count": 9,
   "id": "3967b064",
   "metadata": {},
   "outputs": [
    {
     "data": {
      "text/plain": [
       "(100,)"
      ]
     },
     "execution_count": 9,
     "metadata": {},
     "output_type": "execute_result"
    }
   ],
   "source": [
    "y_train.shape"
   ]
  },
  {
   "cell_type": "code",
   "execution_count": 10,
   "id": "22b66349",
   "metadata": {},
   "outputs": [],
   "source": [
    "def pred(x,w,b):\n",
    "    return np.dot(x,w)+b\n",
    "def cost_ftn(y_hat,y):\n",
    "    return (1/len(y))*np.sum((y_hat-y)**2)\n",
    "def gradient(x,y,w,b,m):\n",
    "    total_costs=[]\n",
    "    dw = np.zeros((x.shape[1]));\n",
    "    lr=0.001\n",
    "    iteration=100\n",
    "    for i in range(iteration):\n",
    "        y_hat=pred(x,w,b)\n",
    "        costs=cost_ftn(y_hat,y)\n",
    "        dw[0]=(1/(m))*np.sum((y_hat-y)*x[:, 0]);\n",
    "        dw[1]=(1/m)*np.sum((y_hat-y)*x[:, 1]);\n",
    "        db=1/(m)*np.sum(y_hat-y);\n",
    "        w[0]-=lr*dw[0];\n",
    "        w[1]-=lr*dw[1];\n",
    "        b-=lr*db;\n",
    "        total_costs.append(costs)\n",
    "    return total_costs  "
   ]
  },
  {
   "cell_type": "code",
   "execution_count": 11,
   "id": "deab4e31",
   "metadata": {},
   "outputs": [
    {
     "name": "stdout",
     "output_type": "stream",
     "text": [
      "[2.1221562  1.03246526]\n"
     ]
    }
   ],
   "source": [
    "m,n=x_train.shape\n",
    "w=np.random.randn(n)\n",
    "print(w)\n",
    "b=np.random.randn()\n",
    "costs = gradient(x_train,y_train,w,b,m)"
   ]
  },
  {
   "cell_type": "code",
   "execution_count": 12,
   "id": "943d26aa",
   "metadata": {},
   "outputs": [
    {
     "data": {
      "text/plain": [
       "[2596.818291724689,\n",
       " 1869.924768628956,\n",
       " 1346.8771445894763,\n",
       " 970.5025601139868,\n",
       " 699.6636784756583,\n",
       " 504.7611272048245,\n",
       " 364.4973911064473,\n",
       " 263.54835151887283,\n",
       " 190.8878999734982,\n",
       " 138.58245538491516,\n",
       " 100.92358870277512,\n",
       " 73.80392442432765,\n",
       " 54.26808595444663,\n",
       " 40.18958943637846,\n",
       " 30.038360689318658,\n",
       " 22.713457761054283,\n",
       " 17.422710568226616,\n",
       " 13.596118566674406,\n",
       " 10.823538177520222,\n",
       " 8.809847306405347,\n",
       " 7.342685073021295,\n",
       " 6.269239722383091,\n",
       " 5.479546931689344,\n",
       " 4.894472511511134,\n",
       " 4.4570656472689265,\n",
       " 4.126337329816813,\n",
       " 3.872783771071641,\n",
       " 3.675165380673998,\n",
       " 3.5181891507343908,\n",
       " 3.3908410657174235,\n",
       " 3.285186222027036,\n",
       " 3.1955054767252786,\n",
       " 3.1176742376470896,\n",
       " 3.0487154805449435,\n",
       " 2.986478127156203,\n",
       " 2.9294056237903305,\n",
       " 2.8763694216333566,\n",
       " 2.8265491556376627,\n",
       " 2.779346424379624,\n",
       " 2.7343227468145357,\n",
       " 2.691154915067717,\n",
       " 2.649602864257393,\n",
       " 2.609486548778382,\n",
       " 2.570669299098654,\n",
       " 2.5330458415816945,\n",
       " 2.496533673603368,\n",
       " 2.461066853014291,\n",
       " 2.426591524907705,\n",
       " 2.393062698542357,\n",
       " 2.3604419239001393,\n",
       " 2.3286956156672463,\n",
       " 2.2977938431636264,\n",
       " 2.267709455641664,\n",
       " 2.238417448996545,\n",
       " 2.2098945062805915,\n",
       " 2.1821186633735024,\n",
       " 2.1550690648023707,\n",
       " 2.1287257845212206,\n",
       " 2.1030696935224635,\n",
       " 2.078082361234695,\n",
       " 2.0537459813178556,\n",
       " 2.0300433150978696,\n",
       " 2.0069576477760416,\n",
       " 1.9844727539108522,\n",
       " 1.9625728696498868,\n",
       " 1.9412426698951926,\n",
       " 1.9204672490926964,\n",
       " 1.9002321047018,\n",
       " 1.8805231226640107,\n",
       " 1.8613265643787305,\n",
       " 1.8426290548304125,\n",
       " 1.824417571609397,\n",
       " 1.8066794346393618,\n",
       " 1.7894022964749734,\n",
       " 1.7725741330701612,\n",
       " 1.756183234943627,\n",
       " 1.7402181986874223,\n",
       " 1.7246679187779304,\n",
       " 1.7095215796587615,\n",
       " 1.6947686480720114,\n",
       " 1.6803988656196989,\n",
       " 1.6664022415408786,\n",
       " 1.6527690456927528,\n",
       " 1.639489801726032,\n",
       " 1.6265552804463284,\n",
       " 1.613956493354537,\n",
       " 1.6016846863597576,\n",
       " 1.589731333659268,\n",
       " 1.5780881317801527,\n",
       " 1.5667469937779572,\n",
       " 1.555700043587653,\n",
       " 1.5449396105227688,\n",
       " 1.5344582239185207,\n",
       " 1.5242486079150421,\n",
       " 1.514303676376956,\n",
       " 1.504616527945642,\n",
       " 1.4951804412206398,\n",
       " 1.485988870066859,\n",
       " 1.4770354390442146,\n",
       " 1.4683139389565014]"
      ]
     },
     "execution_count": 12,
     "metadata": {},
     "output_type": "execute_result"
    }
   ],
   "source": [
    "costs"
   ]
  },
  {
   "cell_type": "code",
   "execution_count": 15,
   "id": "a30b13e1",
   "metadata": {},
   "outputs": [
    {
     "data": {
      "text/plain": [
       "[<matplotlib.lines.Line2D at 0x266e8e23750>]"
      ]
     },
     "execution_count": 15,
     "metadata": {},
     "output_type": "execute_result"
    },
    {
     "data": {
      "image/png": "[encoded data removed]",
      "text/plain": [
       "<Figure size 640x480 with 1 Axes>"
      ]
     },
     "metadata": {},
     "output_type": "display_data"
    }
   ],
   "source": [
    "plt.plot(costs)"
   ]
  },
  {
   "cell_type": "code",
   "execution_count": 16,
   "id": "fba3e504",
   "metadata": {},
   "outputs": [],
   "source": [
    "\n",
    "m, n = x_train.shape\n",
    "w = np.random.randn(n)  \n",
    "b = np.random.randn()   \n",
    "\n",
    "def pred(x, w, b):\n",
    "    return np.dot(x, w) + b\n",
    "\n",
    "def cost_ftn(y_hat, y):\n",
    "    return (1 / len(y)) * np.sum((y_hat - y) ** 2)\n",
    "\n",
    "def gradient(x, y, w, b, m):\n",
    "    total_costs = []\n",
    "    lr = 0.001  # Learning rate\n",
    "    iteration = 100  # Number of iterations\n",
    "\n",
    "    for i in range(iteration):\n",
    "        y_hat = pred(x, w, b)  # Predictions\n",
    "        costs = cost_ftn(y_hat, y)  # Calculate cost\n",
    "\n",
    "        # Compute gradients\n",
    "        dw = (1 / m) * np.dot(x.T, (y_hat - y))  # Gradient of weights\n",
    "        db = (1 / m) * np.sum(y_hat - y)  # Gradient of bias\n",
    "\n",
    "        # Update weights and bias\n",
    "        w -= lr * dw\n",
    "        b -= lr * db\n",
    "\n",
    "        total_costs.append(costs)\n",
    "\n",
    "    return total_costs\n",
    "\n",
    "\n",
    "costs = gradient(x_train, y_train, w, b, m)\n",
    "\n"
   ]
  },
  {
   "cell_type": "code",
   "execution_count": null,
   "id": "8ee43748",
   "metadata": {},
   "outputs": [],
   "source": [
    "zero=np.zeros(400,400,3)"
   ]
  },
  {
   "cell_type": "code",
   "execution_count": null,
   "id": "a85d8ede",
   "metadata": {},
   "outputs": [],
   "source": [
    "zero.shape"
   ]
  },
  {
   "cell_type": "code",
   "execution_count": null,
   "id": "38634d3b",
   "metadata": {},
   "outputs": [],
   "source": []
  }
 ],
 "metadata": {
  "kernelspec": {
   "display_name": "Python 3 (ipykernel)",
   "language": "python",
   "name": "python3"
  },
  "language_info": {
   "codemirror_mode": {
    "name": "ipython",
    "version": 3
   },
   "file_extension": ".py",
   "mimetype": "text/x-python",
   "name": "python",
   "nbconvert_exporter": "python",
   "pygments_lexer": "ipython3",
   "version": "3.11.5"
  }
 },
 "nbformat": 4,
 "nbformat_minor": 5
}
